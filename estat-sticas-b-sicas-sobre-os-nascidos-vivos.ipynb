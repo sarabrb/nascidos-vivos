{
 "cells": [
  {
   "cell_type": "markdown",
   "id": "625f9bfb",
   "metadata": {
    "papermill": {
     "duration": 0.012219,
     "end_time": "2024-11-21T21:10:28.328323",
     "exception": false,
     "start_time": "2024-11-21T21:10:28.316104",
     "status": "completed"
    },
    "tags": []
   },
   "source": [
    "# Objetivo\n",
    "\n",
    "#### O objetivo deste estudo é constatar algumas estatísticas básicas sobre os nascidos vivos no Brasil de janeiro a agosto de 2024, com base nos registros do DataSUS. Informações como idade dos pais, anomalias registradas, escolaridade e estado civil das mães, tipos de partos, semanas de gestação e número de consultas pré-natal e as relações que essas variáveis podem ter entre si."
   ]
  },
  {
   "cell_type": "markdown",
   "id": "5f3561fb",
   "metadata": {
    "papermill": {
     "duration": 0.010538,
     "end_time": "2024-11-21T21:10:28.349470",
     "exception": false,
     "start_time": "2024-11-21T21:10:28.338932",
     "status": "completed"
    },
    "tags": []
   },
   "source": [
    "### Limpeza e tratamento de dados"
   ]
  },
  {
   "cell_type": "code",
   "execution_count": 1,
   "id": "817cb877",
   "metadata": {
    "execution": {
     "iopub.execute_input": "2024-11-21T21:10:28.370214Z",
     "iopub.status.busy": "2024-11-21T21:10:28.369709Z",
     "iopub.status.idle": "2024-11-21T21:10:31.168589Z",
     "shell.execute_reply": "2024-11-21T21:10:31.167384Z"
    },
    "papermill": {
     "duration": 2.812293,
     "end_time": "2024-11-21T21:10:31.171156",
     "exception": false,
     "start_time": "2024-11-21T21:10:28.358863",
     "status": "completed"
    },
    "tags": []
   },
   "outputs": [],
   "source": [
    "import pandas as pd\n",
    "from datetime import datetime\n",
    "import re\n",
    "import seaborn as sns\n",
    "import matplotlib.pyplot as plt"
   ]
  },
  {
   "cell_type": "code",
   "execution_count": 2,
   "id": "02ca2ef3",
   "metadata": {
    "execution": {
     "iopub.execute_input": "2024-11-21T21:10:31.191760Z",
     "iopub.status.busy": "2024-11-21T21:10:31.191206Z",
     "iopub.status.idle": "2024-11-21T21:11:04.202569Z",
     "shell.execute_reply": "2024-11-21T21:11:04.201477Z"
    },
    "papermill": {
     "duration": 33.034823,
     "end_time": "2024-11-21T21:11:04.215616",
     "exception": false,
     "start_time": "2024-11-21T21:10:31.180793",
     "status": "completed"
    },
    "tags": []
   },
   "outputs": [
    {
     "name": "stdout",
     "output_type": "stream",
     "text": [
      "Index(['contador', 'ORIGEM', 'CODESTAB', 'CODMUNNASC', 'LOCNASC', 'IDADEMAE',\n",
      "       'ESTCIVMAE', 'ESCMAE', 'CODOCUPMAE', 'QTDFILVIVO', 'QTDFILMORT',\n",
      "       'CODMUNRES', 'GESTACAO', 'GRAVIDEZ', 'PARTO', 'CONSULTAS', 'DTNASC',\n",
      "       'HORANASC', 'SEXO', 'APGAR1', 'APGAR5', 'RACACOR', 'PESO', 'IDANOMAL',\n",
      "       'DTCADASTRO', 'CODANOMAL', 'NUMEROLOTE', 'VERSAOSIST', 'DTRECEBIM',\n",
      "       'DIFDATA', 'OPORT_DN', 'DTRECORIGA', 'NATURALMAE', 'CODMUNNATU',\n",
      "       'CODUFNATU', 'ESCMAE2010', 'SERIESCMAE', 'DTNASCMAE', 'RACACORMAE',\n",
      "       'QTDGESTANT', 'QTDPARTNOR', 'QTDPARTCES', 'IDADEPAI', 'DTULTMENST',\n",
      "       'SEMAGESTAC', 'TPMETESTIM', 'CONSPRENAT', 'MESPRENAT', 'TPAPRESENT',\n",
      "       'STTRABPART', 'STCESPARTO', 'TPNASCASSI', 'TPFUNCRESP', 'TPDOCRESP',\n",
      "       'DTDECLARAC', 'ESCMAEAGR1', 'STDNEPIDEM', 'STDNNOVA', 'CODPAISRES',\n",
      "       'TPROBSON', 'PARIDADE', 'KOTELCHUCK'],\n",
      "      dtype='object')\n"
     ]
    }
   ],
   "source": [
    "# Leitura dos dados\n",
    "\n",
    "data = pd.read_csv(r'/kaggle/input/estatsticas-dos-nascidos-vivos-2024/DNOPEN24.csv', sep=\";\", low_memory=False)\n",
    "\n",
    "data = data.apply(pd.to_numeric, errors='coerce')\n",
    "\n",
    "# Conversão para int nas colunas que são float\n",
    "for col in data.select_dtypes(include=['float']).columns:\n",
    "    data[col] = data[col].astype('Int64', errors='ignore')\n",
    "\n",
    "base_dados = pd.DataFrame(data)\n",
    "\n",
    "print(base_dados.columns)"
   ]
  },
  {
   "cell_type": "markdown",
   "id": "3257d8b3",
   "metadata": {
    "papermill": {
     "duration": 0.009007,
     "end_time": "2024-11-21T21:11:04.234112",
     "exception": false,
     "start_time": "2024-11-21T21:11:04.225105",
     "status": "completed"
    },
    "tags": []
   },
   "source": [
    "**Nesse estudo serão de interesse as colunas: **\r\n",
    "* 'LOCNASC': Local de nascimento: 1 – Hospital; 2 – Outros estabelecimentos de saúde; 3- Domicílio; 4 – Outros; 5- Aldeia Indígena.\n",
    "* 'IDADEMAE': Idade da mãe\n",
    "* 'ESTCIVMAE': Situação conjugal da mãe: 1– Solteira; 2– Casada; 3– Viúva; 4– Separada judicialmente/divorciada; 5– União estável; 9– Ignorada\n",
    "* 'ESCMAE': Escolaridade, em anos de estudo concluídos: 1 – Nenhuma; 2 – 1 a 3 anos; 3 – 4 a 7 anos; 4 – 8 a 11 anos; 5 – 12 e mais; 9 – Ignorado.\n",
    "* 'PARTO': Tipo de parto: 1– Vaginal; 2–Cesáreao; 9– Ignorado\n",
    "* 'CONSULTAS': Número de consultas de pré‐natal. Valores: 1– Nenhuma; 2– de 1 a 3; 3– de 4 a 6; 4– 7 e mais; 9– Ignorado\n",
    "* 'DTNASC': Data de nascimento: dd mm aaaa\n",
    "* 'SEXO': Sexo: 1- M – Masculino; 2- F – Feminino; 0- I – ignorado\n",
    "* 'IDANOMAL': Anomalia identificada: 1– Sim; 2– Não; 9– Ignorado\n",
    "* 'IDADEPAI': Idade do pai\n",
    "* 'SEMAGESTAC': Número de semanas de gestaçãomero de semanas de gestação"
   ]
  },
  {
   "cell_type": "code",
   "execution_count": 3,
   "id": "3e1749b3",
   "metadata": {
    "execution": {
     "iopub.execute_input": "2024-11-21T21:11:04.254453Z",
     "iopub.status.busy": "2024-11-21T21:11:04.254043Z",
     "iopub.status.idle": "2024-11-21T21:11:04.483373Z",
     "shell.execute_reply": "2024-11-21T21:11:04.482047Z"
    },
    "papermill": {
     "duration": 0.242378,
     "end_time": "2024-11-21T21:11:04.485769",
     "exception": false,
     "start_time": "2024-11-21T21:11:04.243391",
     "status": "completed"
    },
    "tags": []
   },
   "outputs": [
    {
     "data": {
      "text/html": [
       "<div>\n",
       "<style scoped>\n",
       "    .dataframe tbody tr th:only-of-type {\n",
       "        vertical-align: middle;\n",
       "    }\n",
       "\n",
       "    .dataframe tbody tr th {\n",
       "        vertical-align: top;\n",
       "    }\n",
       "\n",
       "    .dataframe thead th {\n",
       "        text-align: right;\n",
       "    }\n",
       "</style>\n",
       "<table border=\"1\" class=\"dataframe\">\n",
       "  <thead>\n",
       "    <tr style=\"text-align: right;\">\n",
       "      <th></th>\n",
       "      <th>LOCNASC</th>\n",
       "      <th>IDADEMAE</th>\n",
       "      <th>ESTCIVMAE</th>\n",
       "      <th>ESCMAE</th>\n",
       "      <th>PARTO</th>\n",
       "      <th>CONSULTAS</th>\n",
       "      <th>DTNASC</th>\n",
       "      <th>SEXO</th>\n",
       "      <th>IDANOMAL</th>\n",
       "      <th>IDADEPAI</th>\n",
       "      <th>SEMAGESTAC</th>\n",
       "    </tr>\n",
       "  </thead>\n",
       "  <tbody>\n",
       "    <tr>\n",
       "      <th>0</th>\n",
       "      <td>1</td>\n",
       "      <td>24</td>\n",
       "      <td>1</td>\n",
       "      <td>3</td>\n",
       "      <td>2</td>\n",
       "      <td>2</td>\n",
       "      <td>14022024</td>\n",
       "      <td>1</td>\n",
       "      <td>2</td>\n",
       "      <td>&lt;NA&gt;</td>\n",
       "      <td>38</td>\n",
       "    </tr>\n",
       "    <tr>\n",
       "      <th>1</th>\n",
       "      <td>1</td>\n",
       "      <td>29</td>\n",
       "      <td>2</td>\n",
       "      <td>5</td>\n",
       "      <td>2</td>\n",
       "      <td>4</td>\n",
       "      <td>17042024</td>\n",
       "      <td>1</td>\n",
       "      <td>2</td>\n",
       "      <td>41</td>\n",
       "      <td>39</td>\n",
       "    </tr>\n",
       "    <tr>\n",
       "      <th>2</th>\n",
       "      <td>1</td>\n",
       "      <td>30</td>\n",
       "      <td>5</td>\n",
       "      <td>4</td>\n",
       "      <td>2</td>\n",
       "      <td>4</td>\n",
       "      <td>29052024</td>\n",
       "      <td>1</td>\n",
       "      <td>2</td>\n",
       "      <td>35</td>\n",
       "      <td>39</td>\n",
       "    </tr>\n",
       "    <tr>\n",
       "      <th>3</th>\n",
       "      <td>1</td>\n",
       "      <td>14</td>\n",
       "      <td>5</td>\n",
       "      <td>4</td>\n",
       "      <td>2</td>\n",
       "      <td>4</td>\n",
       "      <td>27052024</td>\n",
       "      <td>1</td>\n",
       "      <td>2</td>\n",
       "      <td>17</td>\n",
       "      <td>38</td>\n",
       "    </tr>\n",
       "    <tr>\n",
       "      <th>4</th>\n",
       "      <td>1</td>\n",
       "      <td>24</td>\n",
       "      <td>2</td>\n",
       "      <td>4</td>\n",
       "      <td>2</td>\n",
       "      <td>4</td>\n",
       "      <td>13052024</td>\n",
       "      <td>1</td>\n",
       "      <td>2</td>\n",
       "      <td>29</td>\n",
       "      <td>39</td>\n",
       "    </tr>\n",
       "    <tr>\n",
       "      <th>...</th>\n",
       "      <td>...</td>\n",
       "      <td>...</td>\n",
       "      <td>...</td>\n",
       "      <td>...</td>\n",
       "      <td>...</td>\n",
       "      <td>...</td>\n",
       "      <td>...</td>\n",
       "      <td>...</td>\n",
       "      <td>...</td>\n",
       "      <td>...</td>\n",
       "      <td>...</td>\n",
       "    </tr>\n",
       "    <tr>\n",
       "      <th>1511165</th>\n",
       "      <td>1</td>\n",
       "      <td>30</td>\n",
       "      <td>1</td>\n",
       "      <td>4</td>\n",
       "      <td>2</td>\n",
       "      <td>3</td>\n",
       "      <td>19082024</td>\n",
       "      <td>1</td>\n",
       "      <td>2</td>\n",
       "      <td>&lt;NA&gt;</td>\n",
       "      <td>38</td>\n",
       "    </tr>\n",
       "    <tr>\n",
       "      <th>1511166</th>\n",
       "      <td>1</td>\n",
       "      <td>23</td>\n",
       "      <td>1</td>\n",
       "      <td>5</td>\n",
       "      <td>1</td>\n",
       "      <td>3</td>\n",
       "      <td>20082024</td>\n",
       "      <td>1</td>\n",
       "      <td>2</td>\n",
       "      <td>&lt;NA&gt;</td>\n",
       "      <td>39</td>\n",
       "    </tr>\n",
       "    <tr>\n",
       "      <th>1511167</th>\n",
       "      <td>1</td>\n",
       "      <td>25</td>\n",
       "      <td>1</td>\n",
       "      <td>4</td>\n",
       "      <td>2</td>\n",
       "      <td>3</td>\n",
       "      <td>19082024</td>\n",
       "      <td>1</td>\n",
       "      <td>2</td>\n",
       "      <td>&lt;NA&gt;</td>\n",
       "      <td>39</td>\n",
       "    </tr>\n",
       "    <tr>\n",
       "      <th>1511168</th>\n",
       "      <td>1</td>\n",
       "      <td>20</td>\n",
       "      <td>1</td>\n",
       "      <td>5</td>\n",
       "      <td>1</td>\n",
       "      <td>4</td>\n",
       "      <td>20082024</td>\n",
       "      <td>2</td>\n",
       "      <td>2</td>\n",
       "      <td>&lt;NA&gt;</td>\n",
       "      <td>40</td>\n",
       "    </tr>\n",
       "    <tr>\n",
       "      <th>1511169</th>\n",
       "      <td>1</td>\n",
       "      <td>42</td>\n",
       "      <td>2</td>\n",
       "      <td>5</td>\n",
       "      <td>2</td>\n",
       "      <td>3</td>\n",
       "      <td>5072024</td>\n",
       "      <td>1</td>\n",
       "      <td>2</td>\n",
       "      <td>42</td>\n",
       "      <td>37</td>\n",
       "    </tr>\n",
       "  </tbody>\n",
       "</table>\n",
       "<p>1511170 rows × 11 columns</p>\n",
       "</div>"
      ],
      "text/plain": [
       "         LOCNASC  IDADEMAE  ESTCIVMAE  ESCMAE  PARTO  CONSULTAS    DTNASC  \\\n",
       "0              1        24          1       3      2          2  14022024   \n",
       "1              1        29          2       5      2          4  17042024   \n",
       "2              1        30          5       4      2          4  29052024   \n",
       "3              1        14          5       4      2          4  27052024   \n",
       "4              1        24          2       4      2          4  13052024   \n",
       "...          ...       ...        ...     ...    ...        ...       ...   \n",
       "1511165        1        30          1       4      2          3  19082024   \n",
       "1511166        1        23          1       5      1          3  20082024   \n",
       "1511167        1        25          1       4      2          3  19082024   \n",
       "1511168        1        20          1       5      1          4  20082024   \n",
       "1511169        1        42          2       5      2          3   5072024   \n",
       "\n",
       "         SEXO  IDANOMAL  IDADEPAI  SEMAGESTAC  \n",
       "0           1         2      <NA>          38  \n",
       "1           1         2        41          39  \n",
       "2           1         2        35          39  \n",
       "3           1         2        17          38  \n",
       "4           1         2        29          39  \n",
       "...       ...       ...       ...         ...  \n",
       "1511165     1         2      <NA>          38  \n",
       "1511166     1         2      <NA>          39  \n",
       "1511167     1         2      <NA>          39  \n",
       "1511168     2         2      <NA>          40  \n",
       "1511169     1         2        42          37  \n",
       "\n",
       "[1511170 rows x 11 columns]"
      ]
     },
     "metadata": {},
     "output_type": "display_data"
    }
   ],
   "source": [
    "# Selecionando apenas as colunas de interesse\n",
    "colunas_desejadas = [\n",
    "    \"LOCNASC\", \"IDADEMAE\", \"ESTCIVMAE\", \"ESCMAE\", \"PARTO\", \n",
    "    \"CONSULTAS\", \"DTNASC\", \"SEXO\", \"IDANOMAL\", \n",
    "    \"IDADEPAI\", \"SEMAGESTAC\"\n",
    "]\n",
    "\n",
    "base_filtrada = pd.DataFrame(base_dados)\n",
    "base_filtrada = base_dados[colunas_desejadas].copy()\n",
    "\n",
    "# Eliminando os valores NaN das colunas de datas\n",
    "base_filtrada = base_filtrada.dropna(subset=['DTNASC'])\n",
    "\n",
    "display(base_filtrada)"
   ]
  },
  {
   "cell_type": "code",
   "execution_count": 4,
   "id": "6337eb7e",
   "metadata": {
    "execution": {
     "iopub.execute_input": "2024-11-21T21:11:04.507058Z",
     "iopub.status.busy": "2024-11-21T21:11:04.506713Z",
     "iopub.status.idle": "2024-11-21T21:11:08.144793Z",
     "shell.execute_reply": "2024-11-21T21:11:08.143676Z"
    },
    "papermill": {
     "duration": 3.651492,
     "end_time": "2024-11-21T21:11:08.147197",
     "exception": false,
     "start_time": "2024-11-21T21:11:04.495705",
     "status": "completed"
    },
    "tags": []
   },
   "outputs": [
    {
     "data": {
      "text/html": [
       "<div>\n",
       "<style scoped>\n",
       "    .dataframe tbody tr th:only-of-type {\n",
       "        vertical-align: middle;\n",
       "    }\n",
       "\n",
       "    .dataframe tbody tr th {\n",
       "        vertical-align: top;\n",
       "    }\n",
       "\n",
       "    .dataframe thead th {\n",
       "        text-align: right;\n",
       "    }\n",
       "</style>\n",
       "<table border=\"1\" class=\"dataframe\">\n",
       "  <thead>\n",
       "    <tr style=\"text-align: right;\">\n",
       "      <th></th>\n",
       "      <th>DTNASC</th>\n",
       "    </tr>\n",
       "  </thead>\n",
       "  <tbody>\n",
       "    <tr>\n",
       "      <th>0</th>\n",
       "      <td>2024-02-14</td>\n",
       "    </tr>\n",
       "    <tr>\n",
       "      <th>1</th>\n",
       "      <td>2024-04-17</td>\n",
       "    </tr>\n",
       "    <tr>\n",
       "      <th>2</th>\n",
       "      <td>2024-05-29</td>\n",
       "    </tr>\n",
       "    <tr>\n",
       "      <th>3</th>\n",
       "      <td>2024-05-27</td>\n",
       "    </tr>\n",
       "    <tr>\n",
       "      <th>4</th>\n",
       "      <td>2024-05-13</td>\n",
       "    </tr>\n",
       "  </tbody>\n",
       "</table>\n",
       "</div>"
      ],
      "text/plain": [
       "      DTNASC\n",
       "0 2024-02-14\n",
       "1 2024-04-17\n",
       "2 2024-05-29\n",
       "3 2024-05-27\n",
       "4 2024-05-13"
      ]
     },
     "metadata": {},
     "output_type": "display_data"
    }
   ],
   "source": [
    "# Função para corrigir as datas com regex\n",
    "def corrigir_datas(data):\n",
    "    if pd.isna(data):  # Verifica valores ausentes\n",
    "        return None\n",
    "    regex = r\"\\b(\\d{1,2})(\\d{1,2})(\\d{2}|\\d{4})\\b\"\n",
    "    match = re.match(regex, str(data))\n",
    "    if match:\n",
    "        dia, mes, ano = match.groups()\n",
    "        if len(ano) == 2:  # Ajusta ano para 4 dígitos, já que a base é para o ano de 2024\n",
    "            ano = \"20\" + ano\n",
    "        return f\"{dia}/{mes}/{ano}\"  # Retorna no formato DD/MM/YYYY\n",
    "    return None  # Retorna None para valores inválidos\n",
    "\n",
    "# Aplicação da função na coluna DTNASC\n",
    "base_filtrada['DTNASC'] = base_filtrada['DTNASC'].apply(corrigir_datas)\n",
    "\n",
    "# Convertendo para datetime após a correção\n",
    "base_filtrada['DTNASC'] = pd.to_datetime(base_filtrada['DTNASC'], format='%d/%m/%Y', errors='coerce')\n",
    "\n",
    "# Resultado\n",
    "display(base_filtrada[['DTNASC']].head())"
   ]
  },
  {
   "cell_type": "markdown",
   "id": "69ee1561",
   "metadata": {
    "papermill": {
     "duration": 0.009569,
     "end_time": "2024-11-21T21:11:08.166973",
     "exception": false,
     "start_time": "2024-11-21T21:11:08.157404",
     "status": "completed"
    },
    "tags": []
   },
   "source": [
    "### Mapeamento das categorias e aplicação na base de dados"
   ]
  },
  {
   "cell_type": "code",
   "execution_count": 5,
   "id": "a1d93178",
   "metadata": {
    "execution": {
     "iopub.execute_input": "2024-11-21T21:11:08.188378Z",
     "iopub.status.busy": "2024-11-21T21:11:08.188008Z",
     "iopub.status.idle": "2024-11-21T21:11:08.470554Z",
     "shell.execute_reply": "2024-11-21T21:11:08.469483Z"
    },
    "papermill": {
     "duration": 0.296042,
     "end_time": "2024-11-21T21:11:08.472906",
     "exception": false,
     "start_time": "2024-11-21T21:11:08.176864",
     "status": "completed"
    },
    "tags": []
   },
   "outputs": [
    {
     "data": {
      "text/html": [
       "<div>\n",
       "<style scoped>\n",
       "    .dataframe tbody tr th:only-of-type {\n",
       "        vertical-align: middle;\n",
       "    }\n",
       "\n",
       "    .dataframe tbody tr th {\n",
       "        vertical-align: top;\n",
       "    }\n",
       "\n",
       "    .dataframe thead th {\n",
       "        text-align: right;\n",
       "    }\n",
       "</style>\n",
       "<table border=\"1\" class=\"dataframe\">\n",
       "  <thead>\n",
       "    <tr style=\"text-align: right;\">\n",
       "      <th></th>\n",
       "      <th>LOCNASC</th>\n",
       "      <th>IDADEMAE</th>\n",
       "      <th>ESTCIVMAE</th>\n",
       "      <th>ESCMAE</th>\n",
       "      <th>PARTO</th>\n",
       "      <th>CONSULTAS</th>\n",
       "      <th>DTNASC</th>\n",
       "      <th>SEXO</th>\n",
       "      <th>IDANOMAL</th>\n",
       "      <th>IDADEPAI</th>\n",
       "      <th>SEMAGESTAC</th>\n",
       "    </tr>\n",
       "  </thead>\n",
       "  <tbody>\n",
       "    <tr>\n",
       "      <th>0</th>\n",
       "      <td>Hospital</td>\n",
       "      <td>24</td>\n",
       "      <td>Solteira</td>\n",
       "      <td>4 a 7 anos</td>\n",
       "      <td>Cesárea</td>\n",
       "      <td>de 1 a 3</td>\n",
       "      <td>2024-02-14</td>\n",
       "      <td>Masculino</td>\n",
       "      <td>Não</td>\n",
       "      <td>&lt;NA&gt;</td>\n",
       "      <td>38</td>\n",
       "    </tr>\n",
       "    <tr>\n",
       "      <th>1</th>\n",
       "      <td>Hospital</td>\n",
       "      <td>29</td>\n",
       "      <td>Casada</td>\n",
       "      <td>12 e mais</td>\n",
       "      <td>Cesárea</td>\n",
       "      <td>7 e mais</td>\n",
       "      <td>2024-04-17</td>\n",
       "      <td>Masculino</td>\n",
       "      <td>Não</td>\n",
       "      <td>41</td>\n",
       "      <td>39</td>\n",
       "    </tr>\n",
       "    <tr>\n",
       "      <th>2</th>\n",
       "      <td>Hospital</td>\n",
       "      <td>30</td>\n",
       "      <td>União estável</td>\n",
       "      <td>8 a 11 anos</td>\n",
       "      <td>Cesárea</td>\n",
       "      <td>7 e mais</td>\n",
       "      <td>2024-05-29</td>\n",
       "      <td>Masculino</td>\n",
       "      <td>Não</td>\n",
       "      <td>35</td>\n",
       "      <td>39</td>\n",
       "    </tr>\n",
       "    <tr>\n",
       "      <th>3</th>\n",
       "      <td>Hospital</td>\n",
       "      <td>14</td>\n",
       "      <td>União estável</td>\n",
       "      <td>8 a 11 anos</td>\n",
       "      <td>Cesárea</td>\n",
       "      <td>7 e mais</td>\n",
       "      <td>2024-05-27</td>\n",
       "      <td>Masculino</td>\n",
       "      <td>Não</td>\n",
       "      <td>17</td>\n",
       "      <td>38</td>\n",
       "    </tr>\n",
       "    <tr>\n",
       "      <th>4</th>\n",
       "      <td>Hospital</td>\n",
       "      <td>24</td>\n",
       "      <td>Casada</td>\n",
       "      <td>8 a 11 anos</td>\n",
       "      <td>Cesárea</td>\n",
       "      <td>7 e mais</td>\n",
       "      <td>2024-05-13</td>\n",
       "      <td>Masculino</td>\n",
       "      <td>Não</td>\n",
       "      <td>29</td>\n",
       "      <td>39</td>\n",
       "    </tr>\n",
       "    <tr>\n",
       "      <th>...</th>\n",
       "      <td>...</td>\n",
       "      <td>...</td>\n",
       "      <td>...</td>\n",
       "      <td>...</td>\n",
       "      <td>...</td>\n",
       "      <td>...</td>\n",
       "      <td>...</td>\n",
       "      <td>...</td>\n",
       "      <td>...</td>\n",
       "      <td>...</td>\n",
       "      <td>...</td>\n",
       "    </tr>\n",
       "    <tr>\n",
       "      <th>1511165</th>\n",
       "      <td>Hospital</td>\n",
       "      <td>30</td>\n",
       "      <td>Solteira</td>\n",
       "      <td>8 a 11 anos</td>\n",
       "      <td>Cesárea</td>\n",
       "      <td>de 4 a 6</td>\n",
       "      <td>2024-08-19</td>\n",
       "      <td>Masculino</td>\n",
       "      <td>Não</td>\n",
       "      <td>&lt;NA&gt;</td>\n",
       "      <td>38</td>\n",
       "    </tr>\n",
       "    <tr>\n",
       "      <th>1511166</th>\n",
       "      <td>Hospital</td>\n",
       "      <td>23</td>\n",
       "      <td>Solteira</td>\n",
       "      <td>12 e mais</td>\n",
       "      <td>Vaginal</td>\n",
       "      <td>de 4 a 6</td>\n",
       "      <td>2024-08-20</td>\n",
       "      <td>Masculino</td>\n",
       "      <td>Não</td>\n",
       "      <td>&lt;NA&gt;</td>\n",
       "      <td>39</td>\n",
       "    </tr>\n",
       "    <tr>\n",
       "      <th>1511167</th>\n",
       "      <td>Hospital</td>\n",
       "      <td>25</td>\n",
       "      <td>Solteira</td>\n",
       "      <td>8 a 11 anos</td>\n",
       "      <td>Cesárea</td>\n",
       "      <td>de 4 a 6</td>\n",
       "      <td>2024-08-19</td>\n",
       "      <td>Masculino</td>\n",
       "      <td>Não</td>\n",
       "      <td>&lt;NA&gt;</td>\n",
       "      <td>39</td>\n",
       "    </tr>\n",
       "    <tr>\n",
       "      <th>1511168</th>\n",
       "      <td>Hospital</td>\n",
       "      <td>20</td>\n",
       "      <td>Solteira</td>\n",
       "      <td>12 e mais</td>\n",
       "      <td>Vaginal</td>\n",
       "      <td>7 e mais</td>\n",
       "      <td>2024-08-20</td>\n",
       "      <td>Feminino</td>\n",
       "      <td>Não</td>\n",
       "      <td>&lt;NA&gt;</td>\n",
       "      <td>40</td>\n",
       "    </tr>\n",
       "    <tr>\n",
       "      <th>1511169</th>\n",
       "      <td>Hospital</td>\n",
       "      <td>42</td>\n",
       "      <td>Casada</td>\n",
       "      <td>12 e mais</td>\n",
       "      <td>Cesárea</td>\n",
       "      <td>de 4 a 6</td>\n",
       "      <td>NaT</td>\n",
       "      <td>Masculino</td>\n",
       "      <td>Não</td>\n",
       "      <td>42</td>\n",
       "      <td>37</td>\n",
       "    </tr>\n",
       "  </tbody>\n",
       "</table>\n",
       "<p>1511170 rows × 11 columns</p>\n",
       "</div>"
      ],
      "text/plain": [
       "          LOCNASC  IDADEMAE      ESTCIVMAE       ESCMAE    PARTO CONSULTAS  \\\n",
       "0        Hospital        24       Solteira   4 a 7 anos  Cesárea  de 1 a 3   \n",
       "1        Hospital        29         Casada    12 e mais  Cesárea  7 e mais   \n",
       "2        Hospital        30  União estável  8 a 11 anos  Cesárea  7 e mais   \n",
       "3        Hospital        14  União estável  8 a 11 anos  Cesárea  7 e mais   \n",
       "4        Hospital        24         Casada  8 a 11 anos  Cesárea  7 e mais   \n",
       "...           ...       ...            ...          ...      ...       ...   \n",
       "1511165  Hospital        30       Solteira  8 a 11 anos  Cesárea  de 4 a 6   \n",
       "1511166  Hospital        23       Solteira    12 e mais  Vaginal  de 4 a 6   \n",
       "1511167  Hospital        25       Solteira  8 a 11 anos  Cesárea  de 4 a 6   \n",
       "1511168  Hospital        20       Solteira    12 e mais  Vaginal  7 e mais   \n",
       "1511169  Hospital        42         Casada    12 e mais  Cesárea  de 4 a 6   \n",
       "\n",
       "            DTNASC       SEXO IDANOMAL  IDADEPAI  SEMAGESTAC  \n",
       "0       2024-02-14  Masculino      Não      <NA>          38  \n",
       "1       2024-04-17  Masculino      Não        41          39  \n",
       "2       2024-05-29  Masculino      Não        35          39  \n",
       "3       2024-05-27  Masculino      Não        17          38  \n",
       "4       2024-05-13  Masculino      Não        29          39  \n",
       "...            ...        ...      ...       ...         ...  \n",
       "1511165 2024-08-19  Masculino      Não      <NA>          38  \n",
       "1511166 2024-08-20  Masculino      Não      <NA>          39  \n",
       "1511167 2024-08-19  Masculino      Não      <NA>          39  \n",
       "1511168 2024-08-20   Feminino      Não      <NA>          40  \n",
       "1511169        NaT  Masculino      Não        42          37  \n",
       "\n",
       "[1511170 rows x 11 columns]"
      ]
     },
     "metadata": {},
     "output_type": "display_data"
    }
   ],
   "source": [
    "# Criando o dicionário para substituir variáveis\n",
    "mapa = {\n",
    "    'LOCNASC': { \n",
    "        1: \"Hospital\", 2: \"Outros estabelecimentos de saúde\", 3: \"Domicílio\", 4: \"Outros\", 5: \"Aldeia Indígena\"\n",
    "    },\n",
    "    'ESTCIVMAE': {\n",
    "        1: \"Solteira\", 2: \"Casada\", 3: \"Viúva\", 4: \"Separada judicialmente/divorciada\", 5: \"União estável\", 9: \"Ignorada\"\n",
    "    },\n",
    "    'ESCMAE': {\n",
    "        1: \"Nenhuma\", 2: \"1 a 3 anos\", 3: \"4 a 7 anos\", 4: \"8 a 11 anos\", 5: \"12 e mais\", 9: \"Ignorado\"\n",
    "    },\n",
    "    'PARTO': {\n",
    "        1: \"Vaginal\", 2: \"Cesárea\", 9: \"Ignorado\"\n",
    "    },\n",
    "    'CONSULTAS': {\n",
    "        1: \"Nenhuma\", 2: \"de 1 a 3\", 3: \"de 4 a 6\", 4: \"7 e mais\", 9: \"Ignorado\"\n",
    "    },\n",
    "    'SEXO': {\n",
    "        1: \"Masculino\", 2: \"Feminino\", 0: \"Ignorado\"\n",
    "    },\n",
    "    'IDANOMAL': {\n",
    "        1: \"Sim\", 2: \"Não\", 9: \"Ignorado\"\n",
    "    },\n",
    "}\n",
    "\n",
    "# Substituindo os valores nas colunas conforme o dicionário\n",
    "for col, mapa in mapa.items():\n",
    "    base_filtrada[col] = base_filtrada[col].map(mapa)\n",
    "\n",
    "# Resultado\n",
    "display(base_filtrada)"
   ]
  },
  {
   "cell_type": "code",
   "execution_count": 6,
   "id": "c29281a5",
   "metadata": {
    "execution": {
     "iopub.execute_input": "2024-11-21T21:11:08.494790Z",
     "iopub.status.busy": "2024-11-21T21:11:08.494414Z",
     "iopub.status.idle": "2024-11-21T21:11:08.662993Z",
     "shell.execute_reply": "2024-11-21T21:11:08.661892Z"
    },
    "papermill": {
     "duration": 0.1818,
     "end_time": "2024-11-21T21:11:08.664969",
     "exception": false,
     "start_time": "2024-11-21T21:11:08.483169",
     "status": "completed"
    },
    "tags": []
   },
   "outputs": [
    {
     "name": "stdout",
     "output_type": "stream",
     "text": [
      "Quantidade de NaT: 320279\n",
      "Percentual de NaT: 21.19%\n"
     ]
    },
    {
     "data": {
      "text/html": [
       "<div>\n",
       "<style scoped>\n",
       "    .dataframe tbody tr th:only-of-type {\n",
       "        vertical-align: middle;\n",
       "    }\n",
       "\n",
       "    .dataframe tbody tr th {\n",
       "        vertical-align: top;\n",
       "    }\n",
       "\n",
       "    .dataframe thead th {\n",
       "        text-align: right;\n",
       "    }\n",
       "</style>\n",
       "<table border=\"1\" class=\"dataframe\">\n",
       "  <thead>\n",
       "    <tr style=\"text-align: right;\">\n",
       "      <th></th>\n",
       "      <th>LOCNASC</th>\n",
       "      <th>IDADEMAE</th>\n",
       "      <th>ESTCIVMAE</th>\n",
       "      <th>ESCMAE</th>\n",
       "      <th>PARTO</th>\n",
       "      <th>CONSULTAS</th>\n",
       "      <th>DTNASC</th>\n",
       "      <th>SEXO</th>\n",
       "      <th>IDANOMAL</th>\n",
       "      <th>IDADEPAI</th>\n",
       "      <th>SEMAGESTAC</th>\n",
       "    </tr>\n",
       "  </thead>\n",
       "  <tbody>\n",
       "    <tr>\n",
       "      <th>0</th>\n",
       "      <td>Hospital</td>\n",
       "      <td>24</td>\n",
       "      <td>Solteira</td>\n",
       "      <td>4 a 7 anos</td>\n",
       "      <td>Cesárea</td>\n",
       "      <td>de 1 a 3</td>\n",
       "      <td>2024-02-14</td>\n",
       "      <td>Masculino</td>\n",
       "      <td>Não</td>\n",
       "      <td>&lt;NA&gt;</td>\n",
       "      <td>38</td>\n",
       "    </tr>\n",
       "    <tr>\n",
       "      <th>1</th>\n",
       "      <td>Hospital</td>\n",
       "      <td>29</td>\n",
       "      <td>Casada</td>\n",
       "      <td>12 e mais</td>\n",
       "      <td>Cesárea</td>\n",
       "      <td>7 e mais</td>\n",
       "      <td>2024-04-17</td>\n",
       "      <td>Masculino</td>\n",
       "      <td>Não</td>\n",
       "      <td>41</td>\n",
       "      <td>39</td>\n",
       "    </tr>\n",
       "    <tr>\n",
       "      <th>2</th>\n",
       "      <td>Hospital</td>\n",
       "      <td>30</td>\n",
       "      <td>União estável</td>\n",
       "      <td>8 a 11 anos</td>\n",
       "      <td>Cesárea</td>\n",
       "      <td>7 e mais</td>\n",
       "      <td>2024-05-29</td>\n",
       "      <td>Masculino</td>\n",
       "      <td>Não</td>\n",
       "      <td>35</td>\n",
       "      <td>39</td>\n",
       "    </tr>\n",
       "    <tr>\n",
       "      <th>3</th>\n",
       "      <td>Hospital</td>\n",
       "      <td>14</td>\n",
       "      <td>União estável</td>\n",
       "      <td>8 a 11 anos</td>\n",
       "      <td>Cesárea</td>\n",
       "      <td>7 e mais</td>\n",
       "      <td>2024-05-27</td>\n",
       "      <td>Masculino</td>\n",
       "      <td>Não</td>\n",
       "      <td>17</td>\n",
       "      <td>38</td>\n",
       "    </tr>\n",
       "    <tr>\n",
       "      <th>4</th>\n",
       "      <td>Hospital</td>\n",
       "      <td>24</td>\n",
       "      <td>Casada</td>\n",
       "      <td>8 a 11 anos</td>\n",
       "      <td>Cesárea</td>\n",
       "      <td>7 e mais</td>\n",
       "      <td>2024-05-13</td>\n",
       "      <td>Masculino</td>\n",
       "      <td>Não</td>\n",
       "      <td>29</td>\n",
       "      <td>39</td>\n",
       "    </tr>\n",
       "    <tr>\n",
       "      <th>...</th>\n",
       "      <td>...</td>\n",
       "      <td>...</td>\n",
       "      <td>...</td>\n",
       "      <td>...</td>\n",
       "      <td>...</td>\n",
       "      <td>...</td>\n",
       "      <td>...</td>\n",
       "      <td>...</td>\n",
       "      <td>...</td>\n",
       "      <td>...</td>\n",
       "      <td>...</td>\n",
       "    </tr>\n",
       "    <tr>\n",
       "      <th>1511164</th>\n",
       "      <td>Hospital</td>\n",
       "      <td>42</td>\n",
       "      <td>Solteira</td>\n",
       "      <td>12 e mais</td>\n",
       "      <td>Cesárea</td>\n",
       "      <td>7 e mais</td>\n",
       "      <td>2024-08-17</td>\n",
       "      <td>Feminino</td>\n",
       "      <td>Não</td>\n",
       "      <td>&lt;NA&gt;</td>\n",
       "      <td>40</td>\n",
       "    </tr>\n",
       "    <tr>\n",
       "      <th>1511165</th>\n",
       "      <td>Hospital</td>\n",
       "      <td>30</td>\n",
       "      <td>Solteira</td>\n",
       "      <td>8 a 11 anos</td>\n",
       "      <td>Cesárea</td>\n",
       "      <td>de 4 a 6</td>\n",
       "      <td>2024-08-19</td>\n",
       "      <td>Masculino</td>\n",
       "      <td>Não</td>\n",
       "      <td>&lt;NA&gt;</td>\n",
       "      <td>38</td>\n",
       "    </tr>\n",
       "    <tr>\n",
       "      <th>1511166</th>\n",
       "      <td>Hospital</td>\n",
       "      <td>23</td>\n",
       "      <td>Solteira</td>\n",
       "      <td>12 e mais</td>\n",
       "      <td>Vaginal</td>\n",
       "      <td>de 4 a 6</td>\n",
       "      <td>2024-08-20</td>\n",
       "      <td>Masculino</td>\n",
       "      <td>Não</td>\n",
       "      <td>&lt;NA&gt;</td>\n",
       "      <td>39</td>\n",
       "    </tr>\n",
       "    <tr>\n",
       "      <th>1511167</th>\n",
       "      <td>Hospital</td>\n",
       "      <td>25</td>\n",
       "      <td>Solteira</td>\n",
       "      <td>8 a 11 anos</td>\n",
       "      <td>Cesárea</td>\n",
       "      <td>de 4 a 6</td>\n",
       "      <td>2024-08-19</td>\n",
       "      <td>Masculino</td>\n",
       "      <td>Não</td>\n",
       "      <td>&lt;NA&gt;</td>\n",
       "      <td>39</td>\n",
       "    </tr>\n",
       "    <tr>\n",
       "      <th>1511168</th>\n",
       "      <td>Hospital</td>\n",
       "      <td>20</td>\n",
       "      <td>Solteira</td>\n",
       "      <td>12 e mais</td>\n",
       "      <td>Vaginal</td>\n",
       "      <td>7 e mais</td>\n",
       "      <td>2024-08-20</td>\n",
       "      <td>Feminino</td>\n",
       "      <td>Não</td>\n",
       "      <td>&lt;NA&gt;</td>\n",
       "      <td>40</td>\n",
       "    </tr>\n",
       "  </tbody>\n",
       "</table>\n",
       "<p>1190891 rows × 11 columns</p>\n",
       "</div>"
      ],
      "text/plain": [
       "          LOCNASC  IDADEMAE      ESTCIVMAE       ESCMAE    PARTO CONSULTAS  \\\n",
       "0        Hospital        24       Solteira   4 a 7 anos  Cesárea  de 1 a 3   \n",
       "1        Hospital        29         Casada    12 e mais  Cesárea  7 e mais   \n",
       "2        Hospital        30  União estável  8 a 11 anos  Cesárea  7 e mais   \n",
       "3        Hospital        14  União estável  8 a 11 anos  Cesárea  7 e mais   \n",
       "4        Hospital        24         Casada  8 a 11 anos  Cesárea  7 e mais   \n",
       "...           ...       ...            ...          ...      ...       ...   \n",
       "1511164  Hospital        42       Solteira    12 e mais  Cesárea  7 e mais   \n",
       "1511165  Hospital        30       Solteira  8 a 11 anos  Cesárea  de 4 a 6   \n",
       "1511166  Hospital        23       Solteira    12 e mais  Vaginal  de 4 a 6   \n",
       "1511167  Hospital        25       Solteira  8 a 11 anos  Cesárea  de 4 a 6   \n",
       "1511168  Hospital        20       Solteira    12 e mais  Vaginal  7 e mais   \n",
       "\n",
       "            DTNASC       SEXO IDANOMAL  IDADEPAI  SEMAGESTAC  \n",
       "0       2024-02-14  Masculino      Não      <NA>          38  \n",
       "1       2024-04-17  Masculino      Não        41          39  \n",
       "2       2024-05-29  Masculino      Não        35          39  \n",
       "3       2024-05-27  Masculino      Não        17          38  \n",
       "4       2024-05-13  Masculino      Não        29          39  \n",
       "...            ...        ...      ...       ...         ...  \n",
       "1511164 2024-08-17   Feminino      Não      <NA>          40  \n",
       "1511165 2024-08-19  Masculino      Não      <NA>          38  \n",
       "1511166 2024-08-20  Masculino      Não      <NA>          39  \n",
       "1511167 2024-08-19  Masculino      Não      <NA>          39  \n",
       "1511168 2024-08-20   Feminino      Não      <NA>          40  \n",
       "\n",
       "[1190891 rows x 11 columns]"
      ]
     },
     "metadata": {},
     "output_type": "display_data"
    }
   ],
   "source": [
    "# Contar NaT na coluna 'DTNASC'\n",
    "quantidade_nat = base_filtrada['DTNASC'].isna().sum()\n",
    "print(f\"Quantidade de NaT: {quantidade_nat}\")\n",
    "\n",
    "percentual_nat = (base_filtrada['DTNASC'].isna().mean()) * 100\n",
    "print(f\"Percentual de NaT: {percentual_nat:.2f}%\")\n",
    "\n",
    "# Optei por eliminar os NaTs\n",
    "base_filtrada = base_filtrada.dropna(subset=['DTNASC'])\n",
    "display(base_filtrada)"
   ]
  },
  {
   "cell_type": "code",
   "execution_count": 7,
   "id": "a5359518",
   "metadata": {
    "execution": {
     "iopub.execute_input": "2024-11-21T21:11:08.687939Z",
     "iopub.status.busy": "2024-11-21T21:11:08.687509Z",
     "iopub.status.idle": "2024-11-21T21:11:08.693378Z",
     "shell.execute_reply": "2024-11-21T21:11:08.691980Z"
    },
    "papermill": {
     "duration": 0.020208,
     "end_time": "2024-11-21T21:11:08.695673",
     "exception": false,
     "start_time": "2024-11-21T21:11:08.675465",
     "status": "completed"
    },
    "tags": []
   },
   "outputs": [],
   "source": [
    "# Transformando base_filtrada em dataframe\n",
    "base_filtrada = pd.DataFrame(base_filtrada)"
   ]
  },
  {
   "cell_type": "code",
   "execution_count": 8,
   "id": "891edfb9",
   "metadata": {
    "execution": {
     "iopub.execute_input": "2024-11-21T21:11:08.718862Z",
     "iopub.status.busy": "2024-11-21T21:11:08.717815Z",
     "iopub.status.idle": "2024-11-21T21:11:08.729964Z",
     "shell.execute_reply": "2024-11-21T21:11:08.728813Z"
    },
    "papermill": {
     "duration": 0.025742,
     "end_time": "2024-11-21T21:11:08.732073",
     "exception": false,
     "start_time": "2024-11-21T21:11:08.706331",
     "status": "completed"
    },
    "tags": []
   },
   "outputs": [
    {
     "name": "stdout",
     "output_type": "stream",
     "text": [
      "Data mínima de nascimento: 2024-01-10 00:00:00\n",
      "Data máxima de nascimento: 2024-08-30 00:00:00\n"
     ]
    }
   ],
   "source": [
    "# Calculando a data mínima e máxima da base de dados\n",
    "data_minima = base_filtrada['DTNASC'].min()\n",
    "data_maxima = base_filtrada['DTNASC'].max()\n",
    "\n",
    "print(\"Data mínima de nascimento:\", data_minima)\n",
    "print(\"Data máxima de nascimento:\", data_maxima)"
   ]
  },
  {
   "cell_type": "markdown",
   "id": "9cbe34ed",
   "metadata": {
    "papermill": {
     "duration": 0.01055,
     "end_time": "2024-11-21T21:11:08.753077",
     "exception": false,
     "start_time": "2024-11-21T21:11:08.742527",
     "status": "completed"
    },
    "tags": []
   },
   "source": [
    "## Estatísticas básicas"
   ]
  },
  {
   "cell_type": "markdown",
   "id": "c15997a0",
   "metadata": {
    "papermill": {
     "duration": 0.010185,
     "end_time": "2024-11-21T21:11:08.773872",
     "exception": false,
     "start_time": "2024-11-21T21:11:08.763687",
     "status": "completed"
    },
    "tags": []
   },
   "source": [
    "### Idades das mães"
   ]
  },
  {
   "cell_type": "code",
   "execution_count": 9,
   "id": "b975838f",
   "metadata": {
    "execution": {
     "iopub.execute_input": "2024-11-21T21:11:08.796192Z",
     "iopub.status.busy": "2024-11-21T21:11:08.795808Z",
     "iopub.status.idle": "2024-11-21T21:11:08.858209Z",
     "shell.execute_reply": "2024-11-21T21:11:08.856946Z"
    },
    "papermill": {
     "duration": 0.076522,
     "end_time": "2024-11-21T21:11:08.860739",
     "exception": false,
     "start_time": "2024-11-21T21:11:08.784217",
     "status": "completed"
    },
    "tags": []
   },
   "outputs": [
    {
     "name": "stdout",
     "output_type": "stream",
     "text": [
      "Estatísticas da Idade das Mães:\n",
      "count    1190882.0\n",
      "mean     27.758712\n",
      "std        6.69628\n",
      "min            8.0\n",
      "25%           23.0\n",
      "50%           27.0\n",
      "75%           33.0\n",
      "max           99.0\n",
      "Name: IDADEMAE, dtype: Float64\n"
     ]
    }
   ],
   "source": [
    "print(\"Estatísticas da Idade das Mães:\")\n",
    "print(base_filtrada['IDADEMAE'].describe())"
   ]
  },
  {
   "cell_type": "markdown",
   "id": "d238b410",
   "metadata": {
    "papermill": {
     "duration": 0.010287,
     "end_time": "2024-11-21T21:11:08.881671",
     "exception": false,
     "start_time": "2024-11-21T21:11:08.871384",
     "status": "completed"
    },
    "tags": []
   },
   "source": [
    "O conjunto de dados contém alguns registros na coluna de idade das mães constando como 8 e 9 anos e 99 anos, mas como são valores um tanto quanto irreais e são poucos dados com esses valores, irei eliminar esses registros."
   ]
  },
  {
   "cell_type": "markdown",
   "id": "b2a9f6b6",
   "metadata": {
    "papermill": {
     "duration": 0.010038,
     "end_time": "2024-11-21T21:11:08.902432",
     "exception": false,
     "start_time": "2024-11-21T21:11:08.892394",
     "status": "completed"
    },
    "tags": []
   },
   "source": [
    "### Boxplot para a idade das mães"
   ]
  },
  {
   "cell_type": "code",
   "execution_count": 10,
   "id": "38d4ba86",
   "metadata": {
    "execution": {
     "iopub.execute_input": "2024-11-21T21:11:08.925584Z",
     "iopub.status.busy": "2024-11-21T21:11:08.925176Z",
     "iopub.status.idle": "2024-11-21T21:11:09.411404Z",
     "shell.execute_reply": "2024-11-21T21:11:09.410353Z"
    },
    "papermill": {
     "duration": 0.500641,
     "end_time": "2024-11-21T21:11:09.413763",
     "exception": false,
     "start_time": "2024-11-21T21:11:08.913122",
     "status": "completed"
    },
    "tags": []
   },
   "outputs": [
    {
     "data": {
      "image/png": "[encoded data removed]",
      "text/plain": [
       "<Figure size 800x600 with 1 Axes>"
      ]
     },
     "metadata": {},
     "output_type": "display_data"
    }
   ],
   "source": [
    "# Filtrando as idades das mães entre 10 e 65 anos\n",
    "base_filtrada = base_filtrada[(base_filtrada['IDADEMAE'] >= 10) & (base_filtrada['IDADEMAE'] <= 65)]\n",
    "\n",
    "# Configurando o estilo do gráfico\n",
    "sns.set(style=\"whitegrid\")\n",
    "\n",
    "# Criando o boxplot da idade das mães\n",
    "plt.figure(figsize=(8, 6))\n",
    "sns.boxplot(x=base_filtrada['IDADEMAE'], color=\"skyblue\")\n",
    "\n",
    "# Ajustando o título e rótulos\n",
    "plt.title(\"Boxplot da Idade das Mães (Filtrando 10 a 65 anos)\", fontsize=16)\n",
    "plt.xlabel(\"Idade da Mãe\", fontsize=12)\n",
    "\n",
    "# Exibindo o gráfico\n",
    "plt.show()"
   ]
  },
  {
   "cell_type": "markdown",
   "id": "99eb3139",
   "metadata": {
    "papermill": {
     "duration": 0.01186,
     "end_time": "2024-11-21T21:11:09.437355",
     "exception": false,
     "start_time": "2024-11-21T21:11:09.425495",
     "status": "completed"
    },
    "tags": []
   },
   "source": [
    "#### O primeiro quartil (Q1) indica que 25% das mães possuem até aproximadamente 24 anos.\r\n",
    "#### A mediana está em torno dos 27 anos, o que significa que metade das mães têm idade menor ou igual a este valor.\r\n",
    "#### O terceiro quartil (Q3) está por volta dos 33 anos, indicando que 75% das mães possuem até essa idade no nascimento de seus filhos.\r\n",
    "#### O quarto quartil (Q4) compreende as idades entre 34 e aproximadamente 48 anos, com valores acima disso sendo considerados outliers, representados pelos pontos fora dos bigodes no gráfico."
   ]
  },
  {
   "cell_type": "markdown",
   "id": "655d86fe",
   "metadata": {
    "papermill": {
     "duration": 0.011219,
     "end_time": "2024-11-21T21:11:09.459575",
     "exception": false,
     "start_time": "2024-11-21T21:11:09.448356",
     "status": "completed"
    },
    "tags": []
   },
   "source": [
    "### Outliers na coluna 'Idade da Mãe'"
   ]
  },
  {
   "cell_type": "code",
   "execution_count": 11,
   "id": "f5d5b564",
   "metadata": {
    "execution": {
     "iopub.execute_input": "2024-11-21T21:11:09.483049Z",
     "iopub.status.busy": "2024-11-21T21:11:09.482685Z",
     "iopub.status.idle": "2024-11-21T21:11:09.495587Z",
     "shell.execute_reply": "2024-11-21T21:11:09.494336Z"
    },
    "papermill": {
     "duration": 0.027268,
     "end_time": "2024-11-21T21:11:09.497752",
     "exception": false,
     "start_time": "2024-11-21T21:11:09.470484",
     "status": "completed"
    },
    "tags": []
   },
   "outputs": [
    {
     "name": "stdout",
     "output_type": "stream",
     "text": [
      "   Contagem  Porcentagem (%)\n",
      "0       305         0.025612\n"
     ]
    }
   ],
   "source": [
    "# Contando quantos mães têm mais de 48 anos\n",
    "maes_mais_48 = base_filtrada[base_filtrada['IDADEMAE'] > 48]\n",
    "\n",
    "# Número total de mães na base\n",
    "total_maes = base_filtrada['IDADEMAE'].count()\n",
    "\n",
    "# Contagem e porcentagem\n",
    "contagem_mais_48 = maes_mais_48['IDADEMAE'].count()\n",
    "porcentagem_mais_48 = (contagem_mais_48 / total_maes) * 100\n",
    "\n",
    "# Criando a tabela resumo\n",
    "tabela_resumo = pd.DataFrame({\n",
    "    'Contagem': [contagem_mais_48],\n",
    "    'Porcentagem (%)': [porcentagem_mais_48]\n",
    "})\n",
    "\n",
    "print(tabela_resumo)"
   ]
  },
  {
   "cell_type": "markdown",
   "id": "0a15a946",
   "metadata": {
    "papermill": {
     "duration": 0.011065,
     "end_time": "2024-11-21T21:11:09.519908",
     "exception": false,
     "start_time": "2024-11-21T21:11:09.508843",
     "status": "completed"
    },
    "tags": []
   },
   "source": [
    "Há poucos outliers na idade das mães, contando com apenas 305 registros, que representam 0.02% do conjunto de dados"
   ]
  },
  {
   "cell_type": "markdown",
   "id": "f0c8a94e",
   "metadata": {
    "papermill": {
     "duration": 0.010729,
     "end_time": "2024-11-21T21:11:09.541983",
     "exception": false,
     "start_time": "2024-11-21T21:11:09.531254",
     "status": "completed"
    },
    "tags": []
   },
   "source": [
    "### Boxplot para a idade dos pais"
   ]
  },
  {
   "cell_type": "code",
   "execution_count": 12,
   "id": "da109c61",
   "metadata": {
    "execution": {
     "iopub.execute_input": "2024-11-21T21:11:09.565562Z",
     "iopub.status.busy": "2024-11-21T21:11:09.565192Z",
     "iopub.status.idle": "2024-11-21T21:11:09.616486Z",
     "shell.execute_reply": "2024-11-21T21:11:09.615348Z"
    },
    "papermill": {
     "duration": 0.066025,
     "end_time": "2024-11-21T21:11:09.619114",
     "exception": false,
     "start_time": "2024-11-21T21:11:09.553089",
     "status": "completed"
    },
    "tags": []
   },
   "outputs": [
    {
     "name": "stdout",
     "output_type": "stream",
     "text": [
      "count     394271.0\n",
      "mean     32.140857\n",
      "std       7.771894\n",
      "min            9.0\n",
      "25%           26.0\n",
      "50%           32.0\n",
      "75%           37.0\n",
      "max           99.0\n",
      "Name: IDADEPAI, dtype: Float64\n",
      "Registros restantes: 1190870\n"
     ]
    }
   ],
   "source": [
    "print(base_filtrada['IDADEPAI'].describe())\n",
    "print(f\"Registros restantes: {len(base_filtrada)}\")"
   ]
  },
  {
   "cell_type": "markdown",
   "id": "98c9af3b",
   "metadata": {
    "papermill": {
     "duration": 0.011849,
     "end_time": "2024-11-21T21:11:09.644556",
     "exception": false,
     "start_time": "2024-11-21T21:11:09.632707",
     "status": "completed"
    },
    "tags": []
   },
   "source": [
    "A base contém dados com idades que fogem do comum (9 e +85 anos) e não serão levadas em consideração nesse estudo, pois podem ser erros de registro ou acontecimentos muito fora da curva"
   ]
  },
  {
   "cell_type": "code",
   "execution_count": 13,
   "id": "ec718674",
   "metadata": {
    "execution": {
     "iopub.execute_input": "2024-11-21T21:11:09.669675Z",
     "iopub.status.busy": "2024-11-21T21:11:09.669229Z",
     "iopub.status.idle": "2024-11-21T21:11:10.046867Z",
     "shell.execute_reply": "2024-11-21T21:11:10.045794Z"
    },
    "papermill": {
     "duration": 0.392635,
     "end_time": "2024-11-21T21:11:10.049340",
     "exception": false,
     "start_time": "2024-11-21T21:11:09.656705",
     "status": "completed"
    },
    "tags": []
   },
   "outputs": [
    {
     "data": {
      "image/png": "[encoded data removed]",
      "text/plain": [
       "<Figure size 800x600 with 1 Axes>"
      ]
     },
     "metadata": {},
     "output_type": "display_data"
    }
   ],
   "source": [
    "# Filtrando as idades dos pais entre 10 e 85 anos\n",
    "base_filtrada = base_filtrada[(base_filtrada['IDADEPAI'] >= 10) & (base_filtrada['IDADEPAI'] <= 85)]\n",
    "\n",
    "# Configurando o estilo do gráfico\n",
    "sns.set(style=\"whitegrid\")\n",
    "\n",
    "# Criando o boxplot de idade dos pais\n",
    "plt.figure(figsize=(8, 6))\n",
    "sns.boxplot(x=base_filtrada['IDADEPAI'], color=\"skyblue\")\n",
    "\n",
    "# Ajustando o título e rótulos\n",
    "plt.title(\"Boxplot da Idade dos Pais (Filtrando 10 a 85 anos)\", fontsize=16)\n",
    "plt.xlabel(\"Idade do Pai\", fontsize=12)\n",
    "\n",
    "# Exibindo o gráfico\n",
    "plt.show()"
   ]
  },
  {
   "cell_type": "markdown",
   "id": "a6b6912a",
   "metadata": {
    "papermill": {
     "duration": 0.011469,
     "end_time": "2024-11-21T21:11:10.073497",
     "exception": false,
     "start_time": "2024-11-21T21:11:10.062028",
     "status": "completed"
    },
    "tags": []
   },
   "source": [
    "#### O primeiro quartil (Q1) informa que até 25% dos pais possuem até 26 anos.\r\n",
    "#### A mediana dos dados é por volta 33 anos.\r\n",
    "#### O terceiro quartil (Q3) traz à tona que até 75% dos pais possuem aproximadamente 40 anos.\r\n",
    "#### Os outliers aqui são bem maiores dos que as estatísticas maternas, indo de aproximadamente 52 até 85 anos."
   ]
  },
  {
   "cell_type": "markdown",
   "id": "022dbef1",
   "metadata": {
    "papermill": {
     "duration": 0.011233,
     "end_time": "2024-11-21T21:11:10.096419",
     "exception": false,
     "start_time": "2024-11-21T21:11:10.085186",
     "status": "completed"
    },
    "tags": []
   },
   "source": [
    "### Há muitos outliers na questão idade dos pais?"
   ]
  },
  {
   "cell_type": "code",
   "execution_count": 14,
   "id": "91c08b97",
   "metadata": {
    "execution": {
     "iopub.execute_input": "2024-11-21T21:11:10.122443Z",
     "iopub.status.busy": "2024-11-21T21:11:10.122013Z",
     "iopub.status.idle": "2024-11-21T21:11:10.135863Z",
     "shell.execute_reply": "2024-11-21T21:11:10.134827Z"
    },
    "papermill": {
     "duration": 0.029867,
     "end_time": "2024-11-21T21:11:10.138622",
     "exception": false,
     "start_time": "2024-11-21T21:11:10.108755",
     "status": "completed"
    },
    "tags": []
   },
   "outputs": [
    {
     "name": "stdout",
     "output_type": "stream",
     "text": [
      "   Contagem  Porcentagem (%)\n",
      "0      4401         1.116427\n"
     ]
    }
   ],
   "source": [
    "# Contando quantos pais têm mais de 52 anos\n",
    "pais_mais_52 = base_filtrada[base_filtrada['IDADEPAI'] > 52]\n",
    "\n",
    "# Número total de pais na base\n",
    "total_pais = base_filtrada['IDADEPAI'].count()\n",
    "\n",
    "# Contagem e porcentagem\n",
    "contagem_mais_52 = pais_mais_52['IDADEPAI'].count()\n",
    "porcentagem_mais_52 = (contagem_mais_52 / total_pais) * 100\n",
    "\n",
    "# Criando a tabela resumo\n",
    "tabela_resumo = pd.DataFrame({\n",
    "    'Contagem': [contagem_mais_52],\n",
    "    'Porcentagem (%)': [porcentagem_mais_52]\n",
    "})\n",
    "\n",
    "print(tabela_resumo)"
   ]
  },
  {
   "cell_type": "markdown",
   "id": "bf19bdd0",
   "metadata": {
    "papermill": {
     "duration": 0.011383,
     "end_time": "2024-11-21T21:11:10.161908",
     "exception": false,
     "start_time": "2024-11-21T21:11:10.150525",
     "status": "completed"
    },
    "tags": []
   },
   "source": [
    "A base contém 4401 registros de pais acima de 52 anos, o que é consideravelmente maior que o número de outliers na idade das mães, representando 1.11% do total."
   ]
  },
  {
   "cell_type": "markdown",
   "id": "5c248d3b",
   "metadata": {
    "papermill": {
     "duration": 0.011344,
     "end_time": "2024-11-21T21:11:10.185133",
     "exception": false,
     "start_time": "2024-11-21T21:11:10.173789",
     "status": "completed"
    },
    "tags": []
   },
   "source": [
    "### Há mais anomalias registradas em nascidos de pais ou mães de mais idade?"
   ]
  },
  {
   "cell_type": "code",
   "execution_count": 15,
   "id": "99b13ee4",
   "metadata": {
    "execution": {
     "iopub.execute_input": "2024-11-21T21:11:10.210437Z",
     "iopub.status.busy": "2024-11-21T21:11:10.210023Z",
     "iopub.status.idle": "2024-11-21T21:11:10.888898Z",
     "shell.execute_reply": "2024-11-21T21:11:10.887690Z"
    },
    "papermill": {
     "duration": 0.694213,
     "end_time": "2024-11-21T21:11:10.891165",
     "exception": false,
     "start_time": "2024-11-21T21:11:10.196952",
     "status": "completed"
    },
    "tags": []
   },
   "outputs": [
    {
     "name": "stdout",
     "output_type": "stream",
     "text": [
      "Anomalias por Faixa de Idade das Mães:\n",
      "  faixa_idade_mae  anomalias   total  porcentagem_anomalias\n",
      "0           10-30       1611  206290               0.780939\n",
      "1           31-40       1553  165487               0.938442\n",
      "2           41-50        373   20802               1.793097\n",
      "3           51-60          2     105               1.904762\n",
      "4             60+          0       1               0.000000\n",
      "\n",
      "Anomalias por Faixa de Idade dos Pais:\n",
      "  faixa_idade_pai  anomalias   total  porcentagem_anomalias\n",
      "0           10-30       1202  155133               0.774819\n",
      "1           31-40       1556  172182               0.903695\n",
      "2           41-50        687   57395               1.196968\n",
      "3           51-60         80    6848               1.168224\n",
      "4             60+         14    1127               1.242236\n"
     ]
    }
   ],
   "source": [
    "# Definindo as faixas de idade\n",
    "faixa_idade = ['10-30', '31-40', '41-50', '51-60', '60+']\n",
    "bins = [10, 30, 40, 50, 60, float('inf')]  # Limites das faixas\n",
    "labels = faixa_idade  # Etiquetas para as faixas\n",
    "\n",
    "# Criando uma nova coluna 'faixa_idade' usando pd.cut para agrupar as idades em faixas\n",
    "base_filtrada['faixa_idade_mae'] = pd.cut(base_filtrada['IDADEMAE'], bins=bins, labels=labels, right=False)\n",
    "base_filtrada['faixa_idade_pai'] = pd.cut(base_filtrada['IDADEPAI'], bins=bins, labels=labels, right=False)\n",
    "\n",
    "# Função para mapear os valores de anomalia\n",
    "def mapear_anomalia(valor):\n",
    "    if pd.isna(valor) or valor == 'Ignorado':\n",
    "        return 0  # Ignora ou trata como 0\n",
    "    return 1 if valor == 'Sim' else 0  # 'Sim' é 1, 'Não' é 0\n",
    "\n",
    "# Contagem de anomalias por faixa de idade das mães\n",
    "anomalias_por_idade_mae = base_filtrada.groupby('faixa_idade_mae', observed=False)['IDANOMAL'].agg(\n",
    "    anomalias=lambda x: x.map(mapear_anomalia).sum(),  # Mapeia e soma as anomalias\n",
    "    total='count'  # Conta o total de registros\n",
    ").reset_index()\n",
    "\n",
    "# Calculando a porcentagem de anomalias por faixa de idade das mães\n",
    "anomalias_por_idade_mae['porcentagem_anomalias'] = (anomalias_por_idade_mae['anomalias'] / anomalias_por_idade_mae['total']) * 100\n",
    "\n",
    "# Contagem de anomalias por faixa de idade dos pais\n",
    "anomalias_por_idade_pai = base_filtrada.groupby('faixa_idade_pai', observed=False)['IDANOMAL'].agg(\n",
    "    anomalias=lambda x: x.map(mapear_anomalia).sum(),  # Mapeia e soma as anomalias\n",
    "    total='count'  # Conta o total de registros\n",
    ").reset_index()\n",
    "\n",
    "# Calculando a porcentagem de anomalias por faixa de idade dos pais\n",
    "anomalias_por_idade_pai['porcentagem_anomalias'] = (anomalias_por_idade_pai['anomalias'] / anomalias_por_idade_pai['total']) * 100\n",
    "\n",
    "# Exibindo as tabelas\n",
    "print(\"Anomalias por Faixa de Idade das Mães:\")\n",
    "print(anomalias_por_idade_mae)\n",
    "\n",
    "print(\"\\nAnomalias por Faixa de Idade dos Pais:\")\n",
    "print(anomalias_por_idade_pai)"
   ]
  },
  {
   "cell_type": "code",
   "execution_count": 16,
   "id": "98b8e5d4",
   "metadata": {
    "execution": {
     "iopub.execute_input": "2024-11-21T21:11:10.918539Z",
     "iopub.status.busy": "2024-11-21T21:11:10.918131Z",
     "iopub.status.idle": "2024-11-21T21:11:11.232562Z",
     "shell.execute_reply": "2024-11-21T21:11:11.231372Z"
    },
    "papermill": {
     "duration": 0.329875,
     "end_time": "2024-11-21T21:11:11.234746",
     "exception": false,
     "start_time": "2024-11-21T21:11:10.904871",
     "status": "completed"
    },
    "tags": []
   },
   "outputs": [
    {
     "data": {
      "image/png": "[encoded data removed]",
      "text/plain": [
       "<Figure size 1000x600 with 1 Axes>"
      ]
     },
     "metadata": {},
     "output_type": "display_data"
    }
   ],
   "source": [
    "# Dados para o gráfico de barras\n",
    "faixa_idade_mae = ['10-30', '31-40', '41-50', '51-60', '60+']\n",
    "anomalias_mae = [1611, 1553, 373, 2, 0]\n",
    "total_mae = [203963, 163904, 20614, 104, 1]\n",
    "porcentagem_mae = [a / t * 100 for a, t in zip(anomalias_mae, total_mae)]\n",
    "\n",
    "faixa_idade_pai = ['10-30', '31-40', '41-50', '51-60', '60+']\n",
    "anomalias_pai = [1202, 1556, 687, 80, 14]\n",
    "total_pai = [153350, 170474, 56867, 6785, 1110]\n",
    "porcentagem_pai = [a / t * 100 for a, t in zip(anomalias_pai, total_pai)]\n",
    "\n",
    "# Plotando o gráfico de barras\n",
    "fig, ax = plt.subplots(figsize=(10, 6))\n",
    "\n",
    "# Criando as barras para mães e pais\n",
    "bar_width = 0.35\n",
    "index = range(len(faixa_idade_mae))\n",
    "\n",
    "bar1 = ax.bar(index, porcentagem_mae, bar_width, label='Mães', color='red')\n",
    "bar2 = ax.bar([i + bar_width for i in index], porcentagem_pai, bar_width, label='Pais', color='blue')\n",
    "\n",
    "# Adicionando detalhes ao gráfico\n",
    "ax.set_xlabel('Faixa Etária')\n",
    "ax.set_ylabel('Porcentagem de Anomalias (%)')\n",
    "ax.set_title('Porcentagem de Anomalias por Faixa Etária (Mães vs Pais)')\n",
    "ax.set_xticks([i + bar_width / 2 for i in index])\n",
    "ax.set_xticklabels(faixa_idade_mae)\n",
    "ax.legend()\n",
    "\n",
    "plt.tight_layout()\n",
    "plt.show()"
   ]
  },
  {
   "cell_type": "markdown",
   "id": "4a77d0fb",
   "metadata": {
    "papermill": {
     "duration": 0.012195,
     "end_time": "2024-11-21T21:11:11.259570",
     "exception": false,
     "start_time": "2024-11-21T21:11:11.247375",
     "status": "completed"
    },
    "tags": []
   },
   "source": [
    "#### É possível observar que, até os 30 anos, tanto a idade dos pais quanto a das mães influenciam de forma semelhante na porcentagem de anomalias registradas. A partir dos 31 anos, a idade da mãe passa a ter um impacto maior, especialmente após os 40 anos. Por outro lado, a porcentagem de anomalias relacionada à idade dos pais se mantém praticamente constante, mesmo após os 60 anos, permanecendo em torno de 1.25%."
   ]
  },
  {
   "cell_type": "markdown",
   "id": "41c9f449",
   "metadata": {
    "papermill": {
     "duration": 0.012015,
     "end_time": "2024-11-21T21:11:11.284177",
     "exception": false,
     "start_time": "2024-11-21T21:11:11.272162",
     "status": "completed"
    },
    "tags": []
   },
   "source": [
    "### Locais de nascimento e partos"
   ]
  },
  {
   "cell_type": "code",
   "execution_count": 17,
   "id": "2bc8dc42",
   "metadata": {
    "execution": {
     "iopub.execute_input": "2024-11-21T21:11:11.311407Z",
     "iopub.status.busy": "2024-11-21T21:11:11.310462Z",
     "iopub.status.idle": "2024-11-21T21:11:12.413111Z",
     "shell.execute_reply": "2024-11-21T21:11:12.411857Z"
    },
    "papermill": {
     "duration": 1.119041,
     "end_time": "2024-11-21T21:11:12.415697",
     "exception": false,
     "start_time": "2024-11-21T21:11:11.296656",
     "status": "completed"
    },
    "tags": []
   },
   "outputs": [
    {
     "data": {
      "image/png": "[encoded data removed]",
      "text/plain": [
       "<Figure size 1200x600 with 2 Axes>"
      ]
     },
     "metadata": {},
     "output_type": "display_data"
    }
   ],
   "source": [
    "# Contar os valores em LOCNASC e PARTO\n",
    "contagem_locnasc = base_filtrada['LOCNASC'].value_counts()\n",
    "contagem_parto = base_filtrada['PARTO'].value_counts()\n",
    "\n",
    "plt.figure(figsize=(12, 6))\n",
    "\n",
    "# Gráfico de LOCNASC com escala logarítmica\n",
    "plt.subplot(1, 2, 1)\n",
    "contagem_locnasc.plot(kind='bar', color='skyblue')\n",
    "plt.yscale('log')  # Aplicando escala logarítmica\n",
    "plt.title('Contagem de LOCNASC (Escala Logarítmica)')\n",
    "plt.xlabel('Local de Nascimento')\n",
    "plt.ylabel('Contagem')\n",
    "\n",
    "# Gráfico de PARTO com escala logarítmica\n",
    "plt.subplot(1, 2, 2)\n",
    "contagem_parto.plot(kind='bar', color='lightcoral')\n",
    "plt.yscale('log')  # Aplicando escala logarítmica\n",
    "plt.title('Contagem de PARTO (Escala Logarítmica)')\n",
    "plt.xlabel('Tipo de Parto')\n",
    "plt.ylabel('Contagem')\n",
    "\n",
    "plt.tight_layout()\n",
    "plt.show()"
   ]
  },
  {
   "cell_type": "markdown",
   "id": "e3bb8a56",
   "metadata": {
    "papermill": {
     "duration": 0.013282,
     "end_time": "2024-11-21T21:11:12.443048",
     "exception": false,
     "start_time": "2024-11-21T21:11:12.429766",
     "status": "completed"
    },
    "tags": []
   },
   "source": [
    "#### A grande maioria dos partos tem sido realizada em hospitais, motivo pelo qual o gráfico está em escala logarítmica, o que indica que atualmente as pessoas têm mais acesso a hospitais em comparação com décadas passadas."
   ]
  },
  {
   "cell_type": "markdown",
   "id": "39279972",
   "metadata": {
    "papermill": {
     "duration": 0.013285,
     "end_time": "2024-11-21T21:11:12.469859",
     "exception": false,
     "start_time": "2024-11-21T21:11:12.456574",
     "status": "completed"
    },
    "tags": []
   },
   "source": [
    "### Gestações normais e prematuras por tipo de parto"
   ]
  },
  {
   "cell_type": "code",
   "execution_count": 18,
   "id": "62e71744",
   "metadata": {
    "execution": {
     "iopub.execute_input": "2024-11-21T21:11:12.499088Z",
     "iopub.status.busy": "2024-11-21T21:11:12.498141Z",
     "iopub.status.idle": "2024-11-21T21:11:12.996051Z",
     "shell.execute_reply": "2024-11-21T21:11:12.994612Z"
    },
    "papermill": {
     "duration": 0.515299,
     "end_time": "2024-11-21T21:11:12.998507",
     "exception": false,
     "start_time": "2024-11-21T21:11:12.483208",
     "status": "completed"
    },
    "tags": []
   },
   "outputs": [
    {
     "name": "stdout",
     "output_type": "stream",
     "text": [
      "Contagem e Porcentagem para Parto Vaginal:\n",
      "                                  faixa_gestacao  contagem  porcentagem\n",
      "0                                   Desconhecido         0     0.000000\n",
      "1                 Gestação a termo (+42 semanas)       494     0.430726\n",
      "2              Gestação normal (37 a 42 semanas)     87719    76.483564\n",
      "3             Prematuro extremo (até 28 semanas)      1133     0.987880\n",
      "4  Prematuro moderado a tardio (32 a 37 semanas)     22906    19.972099\n",
      "5      Prematuro muito precoce (28 a 32 semanas)      1571     1.369779\n",
      "\n",
      "Contagem e Porcentagem para Parto Cesárea:\n",
      "                                  faixa_gestacao  contagem  porcentagem\n",
      "0                                   Desconhecido         0     0.000000\n",
      "1                 Gestação a termo (+42 semanas)       911     0.326250\n",
      "2              Gestação normal (37 a 42 semanas)    202260    72.433873\n",
      "3             Prematuro extremo (até 28 semanas)      1378     0.493493\n",
      "4  Prematuro moderado a tardio (32 a 37 semanas)     69433    24.865525\n",
      "5      Prematuro muito precoce (28 a 32 semanas)      3719     1.331858\n"
     ]
    }
   ],
   "source": [
    "# Definindo as faixas de gestação\n",
    "def classificar_gestacao(semanas):\n",
    "    if pd.isna(semanas):  # Caso tenha NaN\n",
    "        return 'Desconhecido'\n",
    "    elif semanas <= 28:\n",
    "        return 'Prematuro extremo (até 28 semanas)'\n",
    "    elif 28 < semanas <= 32:\n",
    "        return 'Prematuro muito precoce (28 a 32 semanas)'\n",
    "    elif 32 < semanas <= 37:\n",
    "        return 'Prematuro moderado a tardio (32 a 37 semanas)'\n",
    "    elif 37 < semanas <= 42:\n",
    "        return 'Gestação normal (37 a 42 semanas)'\n",
    "    else:\n",
    "        return 'Gestação a termo (+42 semanas)'\n",
    "\n",
    "# Aplicando a função para criar a nova coluna de classificação\n",
    "base_filtrada['faixa_gestacao'] = base_filtrada['SEMAGESTAC'].apply(classificar_gestacao)\n",
    "\n",
    "# Filtrando os dados por tipo de parto (Vaginal e Cesária)\n",
    "vaginal = base_filtrada[base_filtrada['PARTO'] == 'Vaginal']\n",
    "cesarea = base_filtrada[base_filtrada['PARTO'] == 'Cesárea']\n",
    "\n",
    "# Contagem e porcentagem de nascidos por faixa de gestação para parto vaginal\n",
    "contagem_vaginal = vaginal.groupby('faixa_gestacao').agg(\n",
    "    contagem=('SEMAGESTAC', 'count'),\n",
    "    porcentagem=('SEMAGESTAC', lambda x: (x.count() / len(vaginal)) * 100)\n",
    ").reset_index()\n",
    "\n",
    "# Contagem e porcentagem de nascidos por faixa de gestação para parto cesária\n",
    "contagem_cesarea = cesarea.groupby('faixa_gestacao').agg(\n",
    "    contagem=('SEMAGESTAC', 'count'),\n",
    "    porcentagem=('SEMAGESTAC', lambda x: (x.count() / len(cesarea)) * 100)\n",
    ").reset_index()\n",
    "\n",
    "# Tabelas\n",
    "print(\"Contagem e Porcentagem para Parto Vaginal:\")\n",
    "print(contagem_vaginal)\n",
    "\n",
    "print(\"\\nContagem e Porcentagem para Parto Cesárea:\")\n",
    "print(contagem_cesarea)"
   ]
  },
  {
   "cell_type": "code",
   "execution_count": 19,
   "id": "a7846131",
   "metadata": {
    "execution": {
     "iopub.execute_input": "2024-11-21T21:11:13.028061Z",
     "iopub.status.busy": "2024-11-21T21:11:13.026981Z",
     "iopub.status.idle": "2024-11-21T21:11:13.786395Z",
     "shell.execute_reply": "2024-11-21T21:11:13.785310Z"
    },
    "papermill": {
     "duration": 0.776043,
     "end_time": "2024-11-21T21:11:13.788537",
     "exception": false,
     "start_time": "2024-11-21T21:11:13.012494",
     "status": "completed"
    },
    "tags": []
   },
   "outputs": [
    {
     "data": {
      "image/png": "[encoded data removed]",
      "text/plain": [
       "<Figure size 1000x600 with 1 Axes>"
      ]
     },
     "metadata": {},
     "output_type": "display_data"
    }
   ],
   "source": [
    "# Filtrando os dados para remover os valores \"Ignorado\" na coluna PARTO\n",
    "base_filtrada_sem_ignorados = base_filtrada[base_filtrada['PARTO'] != 'Ignorado']\n",
    "\n",
    "# Visualizando a quantidade de semanas de gestação para cada tipo de parto\n",
    "plt.figure(figsize=(10, 6))\n",
    "\n",
    "# Compração das semanas de gestação (SEMAGESTAC) entre os tipos de parto\n",
    "sns.boxplot(x='PARTO', y='SEMAGESTAC', data=base_filtrada_sem_ignorados, palette=\"Set2\", hue='PARTO')\n",
    "\n",
    "plt.title('Distribuição das Semanas de Gestação por Tipo de Parto')\n",
    "plt.xlabel('Tipo de Parto')\n",
    "plt.ylabel('Semanas de Gestação')\n",
    "plt.show()"
   ]
  },
  {
   "cell_type": "markdown",
   "id": "dd84bec1",
   "metadata": {
    "papermill": {
     "duration": 0.01383,
     "end_time": "2024-11-21T21:11:13.816690",
     "exception": false,
     "start_time": "2024-11-21T21:11:13.802860",
     "status": "completed"
    },
    "tags": []
   },
   "source": [
    "#### O primeiro quartil (Q1) indica que até 25% das mulheres têm partos prematuros, geralmente por volta de 35 semanas de gestação.\r\n",
    "#### A mediana dos dados mostra que, para partos cesáreos, a gestação ocorre por volta de 37 semanas, enquanto para partos vaginais, a mediana está em torno de 38 semanas.\r\n",
    "#### O terceiro quartil (Q3) revela que 75% das mulheres que optam por ou necessitam de uma cesárea têm seus filhos entre 37 e 38 semanas de gestação, enquanto para partos vaginais, essa faixa é de 38 a 40 semanas.\r\n",
    "#### O quarto quartil (Q4) informa que os 25% restantes das mulheres têm seus filhos entre 38 a 42 semanas em partos cesáreos, enquanto em partos naturais, a faixa se estende de 40 a 43 semanas.\r\n",
    "#### Os outliers representam uma minoria, mas são mais frequentes em partos cesáreos."
   ]
  },
  {
   "cell_type": "markdown",
   "id": "c2fcfd44",
   "metadata": {
    "papermill": {
     "duration": 0.013698,
     "end_time": "2024-11-21T21:11:13.844579",
     "exception": false,
     "start_time": "2024-11-21T21:11:13.830881",
     "status": "completed"
    },
    "tags": []
   },
   "source": [
    "### Escolaridade e estado civil das mães"
   ]
  },
  {
   "cell_type": "code",
   "execution_count": 20,
   "id": "b633b1a0",
   "metadata": {
    "execution": {
     "iopub.execute_input": "2024-11-21T21:11:13.874217Z",
     "iopub.status.busy": "2024-11-21T21:11:13.873831Z",
     "iopub.status.idle": "2024-11-21T21:11:14.233515Z",
     "shell.execute_reply": "2024-11-21T21:11:14.232321Z"
    },
    "papermill": {
     "duration": 0.377649,
     "end_time": "2024-11-21T21:11:14.236153",
     "exception": false,
     "start_time": "2024-11-21T21:11:13.858504",
     "status": "completed"
    },
    "tags": []
   },
   "outputs": [
    {
     "name": "stdout",
     "output_type": "stream",
     "text": [
      "Tabela de Escolaridade das Mães por Faixa de Idade:\n",
      "   faixa_idade       ESCMAE  contagem  porcentagem\n",
      "0        10-30   1 a 3 anos       858     0.378012\n",
      "1        10-30    12 e mais     58040    25.570873\n",
      "2        10-30   4 a 7 anos     14560     6.414747\n",
      "3        10-30  8 a 11 anos    153255    67.520057\n",
      "4        10-30      Nenhuma       264     0.116311\n",
      "5        31-40   1 a 3 anos       739     0.485807\n",
      "6        31-40    12 e mais     84869    55.791557\n",
      "7        31-40   4 a 7 anos      7227     4.750917\n",
      "8        31-40  8 a 11 anos     59102    38.852733\n",
      "9        31-40      Nenhuma       181     0.118987\n",
      "10       41-50   1 a 3 anos       218     1.615653\n",
      "11       41-50    12 e mais      7292    54.042837\n",
      "12       41-50   4 a 7 anos       970     7.188913\n",
      "13       41-50  8 a 11 anos      4965    36.796858\n",
      "14       41-50      Nenhuma        48     0.355740\n",
      "15       51-60   1 a 3 anos         2     2.777778\n",
      "16       51-60    12 e mais        48    66.666667\n",
      "17       51-60   4 a 7 anos         3     4.166667\n",
      "18       51-60  8 a 11 anos        18    25.000000\n",
      "19       51-60      Nenhuma         1     1.388889\n",
      "20         60+    12 e mais         1   100.000000\n",
      "\n",
      "Tabela de Estado Civil das Mães por Faixa de Idade:\n",
      "   faixa_idade                          ESTCIVMAE  contagem  porcentagem\n",
      "0        10-30                             Casada     73882    32.561624\n",
      "1        10-30                           Ignorada       508     0.223888\n",
      "2        10-30  Separada judicialmente/divorciada      2407     1.060824\n",
      "3        10-30                           Solteira    117746    51.893574\n",
      "4        10-30                      União estável     32111    14.152112\n",
      "5        10-30                              Viúva       245     0.107978\n",
      "6        31-40                             Casada     89430    58.809217\n",
      "7        31-40                           Ignorada       243     0.159797\n",
      "8        31-40  Separada judicialmente/divorciada      4173     2.744167\n",
      "9        31-40                           Solteira     40833    26.851803\n",
      "10       31-40                      União estável     17068    11.223926\n",
      "11       31-40                              Viúva       321     0.211090\n",
      "12       41-50                             Casada      7720    57.227576\n",
      "13       41-50                           Ignorada        21     0.155671\n",
      "14       41-50  Separada judicialmente/divorciada       635     4.707191\n",
      "15       41-50                           Solteira      3422    25.366938\n",
      "16       41-50                      União estável      1627    12.060786\n",
      "17       41-50                              Viúva        65     0.481838\n",
      "18       51-60                             Casada        42    58.333333\n",
      "19       51-60  Separada judicialmente/divorciada         3     4.166667\n",
      "20       51-60                           Solteira        11    15.277778\n",
      "21       51-60                      União estável        15    20.833333\n",
      "22       51-60                              Viúva         1     1.388889\n",
      "23         60+                             Casada         1   100.000000\n"
     ]
    }
   ],
   "source": [
    "# Definindo as faixas etárias\n",
    "faixa_idade = ['10-30', '31-40', '41-50', '51-60', '60+']\n",
    "\n",
    "# Função para categorizar a idade em faixas\n",
    "def categorizar_idade(idade):\n",
    "    if idade >= 10 and idade <= 30:\n",
    "        return '10-30'\n",
    "    elif idade >= 31 and idade <= 40:\n",
    "        return '31-40'\n",
    "    elif idade >= 41 and idade <= 50:\n",
    "        return '41-50'\n",
    "    elif idade >= 51 and idade <= 60:\n",
    "        return '51-60'\n",
    "    else:\n",
    "        return '60+'\n",
    "\n",
    "# Aplicando a função para categorizar a faixa de idade\n",
    "base_filtrada['faixa_idade'] = base_filtrada['IDADEMAE'].apply(categorizar_idade)\n",
    "\n",
    "# Filtrando para excluir os valores 'Ignorado'\n",
    "base_filtrada_filtrada = base_filtrada[(base_filtrada['ESCMAE'] != 'Ignorado') & (base_filtrada['ESTCIVMAE'] != 'Ignorado')]\n",
    "\n",
    "# Tabela 1: Escolaridade da mãe e faixa de idade\n",
    "tabela_escolaridade_idade = base_filtrada_filtrada.groupby(['faixa_idade', 'ESCMAE']).size().reset_index(name='contagem')\n",
    "\n",
    "# Calculando a porcentagem\n",
    "tabela_escolaridade_idade['porcentagem'] = tabela_escolaridade_idade.groupby('faixa_idade')['contagem'].transform(lambda x: (x / x.sum()) * 100)\n",
    "\n",
    "# Tabela 2: Estado civil da mãe e faixa de idade\n",
    "tabela_estado_civil_idade = base_filtrada_filtrada.groupby(['faixa_idade', 'ESTCIVMAE']).size().reset_index(name='contagem')\n",
    "\n",
    "# Calculando a porcentagem\n",
    "tabela_estado_civil_idade['porcentagem'] = tabela_estado_civil_idade.groupby('faixa_idade')['contagem'].transform(lambda x: (x / x.sum()) * 100)\n",
    "\n",
    "# Tabelas\n",
    "print(\"Tabela de Escolaridade das Mães por Faixa de Idade:\")\n",
    "print(tabela_escolaridade_idade)\n",
    "\n",
    "print(\"\\nTabela de Estado Civil das Mães por Faixa de Idade:\")\n",
    "print(tabela_estado_civil_idade)"
   ]
  },
  {
   "cell_type": "markdown",
   "id": "072297de",
   "metadata": {
    "papermill": {
     "duration": 0.014097,
     "end_time": "2024-11-21T21:11:14.264728",
     "exception": false,
     "start_time": "2024-11-21T21:11:14.250631",
     "status": "completed"
    },
    "tags": []
   },
   "source": [
    "### Tabela de Escolaridade das Mães por Faixa de Idade"
   ]
  },
  {
   "cell_type": "markdown",
   "id": "72169caa",
   "metadata": {
    "papermill": {
     "duration": 0.013668,
     "end_time": "2024-11-21T21:11:14.292496",
     "exception": false,
     "start_time": "2024-11-21T21:11:14.278828",
     "status": "completed"
    },
    "tags": []
   },
   "source": [
    "#### Na tabela de Escolaridade das Mães por Faixa de Idade, é possível notar que uma porcentagem considerável das mães na faixa etária de 10 a 30 anos possui de 8 a 11 anos de escolaridade, o que compreende o ensino fundamental e médio. Em seguida, 25% das mães chegaram ao menos ao ensino superior ou técnico. De 7 anos de escolaridade à nenhuma escolaridade, compreendem 6,88% das mães.\r\n",
    "\r\n",
    "#### Entre as mães de 31 a 40 anos, a escolaridade é mais elevada, com 55% delas atingindo o ensino superior ou técnico. Em segundo lugar, vem a escolaridade de 8 a 11 anos, representando quase 40% das mães. A baixa escolaridade nessa faixa é menor, representando apenas 5,21% das mãe\n",
    "\n",
    "#### Na faixa etária de 41 a 50 anos, 54% das mães possuem 12 ou mais anos de escolaridade, e 36% delas têm entre 8 a 11 anos de escolaridade, o que é semelhante à faixa anterior. No entanto, há um salto na baixa escolaridade, representando 9% das mães com menos de 7 anos de escolaridade.\n",
    "#### Entre as mães de 51 a 60 anos, observa-se um aumento significativo na porcentagem de mães com escolaridade superior a 12 anos, atingindo 66%. Enquanto 25% concluíram pelo menos o ensino fundamental ou médio, 8% possuem menos de 7 anos de escolaridade.dade."
   ]
  },
  {
   "cell_type": "markdown",
   "id": "8101f596",
   "metadata": {
    "papermill": {
     "duration": 0.013981,
     "end_time": "2024-11-21T21:11:14.320640",
     "exception": false,
     "start_time": "2024-11-21T21:11:14.306659",
     "status": "completed"
    },
    "tags": []
   },
   "source": [
    "### Tabela de Estado Civil das Mães por Faixa de Idade"
   ]
  },
  {
   "cell_type": "markdown",
   "id": "52ba59b3",
   "metadata": {
    "papermill": {
     "duration": 0.014003,
     "end_time": "2024-11-21T21:11:14.348924",
     "exception": false,
     "start_time": "2024-11-21T21:11:14.334921",
     "status": "completed"
    },
    "tags": []
   },
   "source": [
    "#### Nas estatísticas de estado civil por faixa de idade, no grupo de 10 a 30 anos, aproximadamente 52% das mães são solteiras, seguidas por 32% de casadas e 14% em união estável.\n",
    "\n",
    "#### Na faixa etária de 31 a 40 anos, 58% das mães são casadas, e o número de solteiras diminui para 26%, enquanto as uniões estáveis caem para 11%. Isso indica que as pessoas tendem a se casar após os 30 anos. Além disso, o número de divorciadas aumenta, de 1,06% na faixa anterior para 2,7% na faixa dos 31-40 anos.\n",
    "\n",
    "#### Entre as mães de 41 a 50 anos, a taxa de casadas diminui para 52%, enquanto o número de divorciadas aumenta para 4,7%. As mães solteiras caem para 25%, enquanto as que estão em união estável aumentam para 12%, o que pode sugerir que algumas mulheres se separam e, em seguida, iniciam outro relacionamento.\n",
    "\n",
    "#### Na faixa etária de 51 a 60 anos, a taxa de casadas permanece em torno de 58%, enquanto o número de divorciadas se mantém estável (cerca de 4%). As mães solteiras caem ainda mais para 15%, enquanto as uniões estáveis aumentam para 20%, representando um padrão de busca por estabilidade em relacionamentos mais tarde na vida.\n",
    "\n",
    "#### A taxa de viúvez também aumenta com a idade, passando de 0,10% na faixa de 10-30 anos para 1,38% na faixa de 51-60 anos. anos."
   ]
  },
  {
   "cell_type": "markdown",
   "id": "ad36eff2",
   "metadata": {
    "papermill": {
     "duration": 0.01395,
     "end_time": "2024-11-21T21:11:14.376946",
     "exception": false,
     "start_time": "2024-11-21T21:11:14.362996",
     "status": "completed"
    },
    "tags": []
   },
   "source": [
    "### O nível de escolaridade influencia na quantidade de consultas pré-natal?"
   ]
  },
  {
   "cell_type": "code",
   "execution_count": 21,
   "id": "e69fb0fb",
   "metadata": {
    "execution": {
     "iopub.execute_input": "2024-11-21T21:11:14.407231Z",
     "iopub.status.busy": "2024-11-21T21:11:14.406835Z",
     "iopub.status.idle": "2024-11-21T21:11:14.483427Z",
     "shell.execute_reply": "2024-11-21T21:11:14.482331Z"
    },
    "papermill": {
     "duration": 0.09425,
     "end_time": "2024-11-21T21:11:14.485499",
     "exception": false,
     "start_time": "2024-11-21T21:11:14.391249",
     "status": "completed"
    },
    "tags": []
   },
   "outputs": [
    {
     "data": {
      "text/html": [
       "<div>\n",
       "<style scoped>\n",
       "    .dataframe tbody tr th:only-of-type {\n",
       "        vertical-align: middle;\n",
       "    }\n",
       "\n",
       "    .dataframe tbody tr th {\n",
       "        vertical-align: top;\n",
       "    }\n",
       "\n",
       "    .dataframe thead th {\n",
       "        text-align: right;\n",
       "    }\n",
       "</style>\n",
       "<table border=\"1\" class=\"dataframe\">\n",
       "  <thead>\n",
       "    <tr style=\"text-align: right;\">\n",
       "      <th>CONSULTAS</th>\n",
       "      <th>ESCMAE</th>\n",
       "      <th>de 1 a 3</th>\n",
       "      <th>de 4 a 6</th>\n",
       "      <th>7 e mais</th>\n",
       "      <th>Ignorado</th>\n",
       "    </tr>\n",
       "  </thead>\n",
       "  <tbody>\n",
       "    <tr>\n",
       "      <th>0</th>\n",
       "      <td>1 a 3 anos</td>\n",
       "      <td>7.539901</td>\n",
       "      <td>22.014309</td>\n",
       "      <td>67.253715</td>\n",
       "      <td>0.330215</td>\n",
       "    </tr>\n",
       "    <tr>\n",
       "      <th>1</th>\n",
       "      <td>12 e mais</td>\n",
       "      <td>1.147421</td>\n",
       "      <td>9.383694</td>\n",
       "      <td>88.654908</td>\n",
       "      <td>0.212313</td>\n",
       "    </tr>\n",
       "    <tr>\n",
       "      <th>2</th>\n",
       "      <td>4 a 7 anos</td>\n",
       "      <td>6.190685</td>\n",
       "      <td>18.945518</td>\n",
       "      <td>72.772408</td>\n",
       "      <td>0.434974</td>\n",
       "    </tr>\n",
       "    <tr>\n",
       "      <th>3</th>\n",
       "      <td>8 a 11 anos</td>\n",
       "      <td>2.780896</td>\n",
       "      <td>13.021993</td>\n",
       "      <td>83.183951</td>\n",
       "      <td>0.230514</td>\n",
       "    </tr>\n",
       "    <tr>\n",
       "      <th>4</th>\n",
       "      <td>Ignorado</td>\n",
       "      <td>5.263158</td>\n",
       "      <td>15.204678</td>\n",
       "      <td>73.879142</td>\n",
       "      <td>0.584795</td>\n",
       "    </tr>\n",
       "    <tr>\n",
       "      <th>5</th>\n",
       "      <td>Nenhuma</td>\n",
       "      <td>16.396761</td>\n",
       "      <td>32.186235</td>\n",
       "      <td>46.153846</td>\n",
       "      <td>0.000000</td>\n",
       "    </tr>\n",
       "  </tbody>\n",
       "</table>\n",
       "</div>"
      ],
      "text/plain": [
       "CONSULTAS       ESCMAE   de 1 a 3   de 4 a 6   7 e mais  Ignorado\n",
       "0           1 a 3 anos   7.539901  22.014309  67.253715  0.330215\n",
       "1            12 e mais   1.147421   9.383694  88.654908  0.212313\n",
       "2           4 a 7 anos   6.190685  18.945518  72.772408  0.434974\n",
       "3          8 a 11 anos   2.780896  13.021993  83.183951  0.230514\n",
       "4             Ignorado   5.263158  15.204678  73.879142  0.584795\n",
       "5              Nenhuma  16.396761  32.186235  46.153846  0.000000"
      ]
     },
     "execution_count": 21,
     "metadata": {},
     "output_type": "execute_result"
    }
   ],
   "source": [
    "# Agrupando por Escolaridade e Consultas\n",
    "tabela_consultas = base_filtrada.groupby(['ESCMAE', 'CONSULTAS']).size().unstack(fill_value=0)\n",
    "\n",
    "# Calculando as porcentagens para cada grupo de escolaridade\n",
    "tabela_consultas_percentual = tabela_consultas.divide(tabela_consultas.sum(axis=1), axis=0) * 100\n",
    "\n",
    "# Resetando o índice para transformar 'ESCMAE' em coluna\n",
    "tabela_consultas_percentual = tabela_consultas_percentual.reset_index()\n",
    "\n",
    "# Reordenando as colunas\n",
    "tabela_consultas_percentual = tabela_consultas_percentual[[\n",
    "    'ESCMAE', \n",
    "    'de 1 a 3', \n",
    "    'de 4 a 6', \n",
    "    '7 e mais', \n",
    "    'Ignorado'\n",
    "]]\n",
    "\n",
    "# Tabela final\n",
    "tabela_consultas_percentual"
   ]
  },
  {
   "cell_type": "markdown",
   "id": "457ad29e",
   "metadata": {
    "papermill": {
     "duration": 0.016104,
     "end_time": "2024-11-21T21:11:14.516355",
     "exception": false,
     "start_time": "2024-11-21T21:11:14.500251",
     "status": "completed"
    },
    "tags": []
   },
   "source": [
    "#### É possível observar que no grupo com maior escolaridade (12 anos ou mais de estudo), a maioria das gestantes realizou 7 ou mais consultas pré-natal, representando 88,6%.\r\n",
    "\r\n",
    "#### Grupos com 8 a 11 anos e 4 a 7 anos de escolaridade também apresentam altas concentrações nessa faixa de consultas, mas em níveis menores quando comparados ao grupo com maior escolaridade.\r\n",
    "\r\n",
    "#### No grupo com nenhuma escolaridade, o maior percentual está na faixa de 7 ou mais consultas (46,1%), uma redução de 47% em relação ao grupo com maior escolaridade. Além disso, esse grupo apresenta o maior percentual (16,4%) de gestantes realizando apenas 1 a 3 consultas, o que pode indicar possíveis barreiras, como falta de acesso a serviços de saúde ou desconhecimento da importância do acompanhamento pré-natal."
   ]
  },
  {
   "cell_type": "markdown",
   "id": "a2664410",
   "metadata": {
    "papermill": {
     "duration": 0.014697,
     "end_time": "2024-11-21T21:11:14.547400",
     "exception": false,
     "start_time": "2024-11-21T21:11:14.532703",
     "status": "completed"
    },
    "tags": []
   },
   "source": [
    "## Conclusões finais"
   ]
  },
  {
   "cell_type": "markdown",
   "id": "4eedcd51",
   "metadata": {
    "papermill": {
     "duration": 0.014293,
     "end_time": "2024-11-21T21:11:14.576226",
     "exception": false,
     "start_time": "2024-11-21T21:11:14.561933",
     "status": "completed"
    },
    "tags": []
   },
   "source": [
    "#### A maioria das mães tem idades mais jovens, com uma concentração significativa de gestantes entre 24 e 33 anos. A partir dos 31 anos, a idade das mães passa a impactar mais a ocorrência de anomalias, especialmente após os 40 anos. As mães com idades mais avançadas têm uma maior chance de anomalias, o que é esperado devido ao aumento dos riscos biológicos associados à idade gestacional.\n",
    "\n",
    "#### A idade dos pais também impacta as anomalias, embora de maneira mais constante. Os pais mais velhos (acima dos 50 anos) representam outliers, com uma alta concentração de idades que variam entre 52 a 85 anos, um fator que pode ser relevante em análises sobre saúde paterna."
   ]
  },
  {
   "cell_type": "markdown",
   "id": "3d674a01",
   "metadata": {
    "papermill": {
     "duration": 0.014191,
     "end_time": "2024-11-21T21:11:14.604872",
     "exception": false,
     "start_time": "2024-11-21T21:11:14.590681",
     "status": "completed"
    },
    "tags": []
   },
   "source": [
    "### Partos e gestações\n",
    "\n",
    "#### A maioria dos partos ocorre em hospitais, refletindo a melhora no acesso à saúde ao longo dos anos.\r\n",
    "#### Os partos cesáreos acontecem um pouco mais cedo (37-38 semanas), enquanto os partos vaginais tendem a ocorrer entre 38-40 semanas. Isso reflete a tendência de antecipação de partos via cesárea por razões médicas ou logísticas.\r\n",
    "#### A maioria dos partos ocorre dentro da janela de tempo saudável (37-40 semanas), mas ainda existe uma porcentagem considerável de partos prematuros (antes de 37 semanas), especialmente para partos cesáreos."
   ]
  },
  {
   "cell_type": "markdown",
   "id": "6823e4d7",
   "metadata": {
    "papermill": {
     "duration": 0.014026,
     "end_time": "2024-11-21T21:11:14.633247",
     "exception": false,
     "start_time": "2024-11-21T21:11:14.619221",
     "status": "completed"
    },
    "tags": []
   },
   "source": [
    "### Escolaridade\n",
    "\n",
    "#### Existe uma alta incidência de mães com baixa escolaridade (menos de 7 anos de estudo) nas faixas etárias mais jovens. Esse dado pode indicar uma falta de acesso a educação ou, possivelmente, um ciclo intergeracional de baixo acesso à educação.\r\n",
    "#### Mães com 12 ou mais anos de escolaridade tendem a realizar mais consultas pré-natal e têm melhores condições para acompanhar a gestação. A escolaridade tem uma relação direta com o número de consultas, indicando a importância do acesso à educação para o cuidado gestacional."
   ]
  },
  {
   "cell_type": "markdown",
   "id": "858e73f0",
   "metadata": {
    "papermill": {
     "duration": 0.014067,
     "end_time": "2024-11-21T21:11:14.663221",
     "exception": false,
     "start_time": "2024-11-21T21:11:14.649154",
     "status": "completed"
    },
    "tags": []
   },
   "source": [
    "### Estado civil\n",
    "\n",
    "#### Na faixa etária de 10 a 30 anos, há uma maior concentração de mães solteiras. Isso diminui conforme as mulheres envelhecem, com um aumento significativo no número de mães casadas ou em união estável a partir dos 31 anos.\r\n",
    "#### A taxa de divórcios aumenta com a idade. Isso pode indicar mudanças nas dinâmicas de relacionamento ao longo do tempo, refletindo as escolhas pessoais e as mudanças nas expectativas de vida.\r\n",
    "#### A viúvez também aumenta com a idade, especialmente após os 50 anos, o que é esperado devido ao avanço da idade."
   ]
  },
  {
   "cell_type": "markdown",
   "id": "612b5839",
   "metadata": {
    "papermill": {
     "duration": 0.014536,
     "end_time": "2024-11-21T21:11:14.692284",
     "exception": false,
     "start_time": "2024-11-21T21:11:14.677748",
     "status": "completed"
    },
    "tags": []
   },
   "source": [
    "### Consultas pré-natal e escolaridade\n",
    "\n",
    "#### A relação entre escolaridade e número de consultas pré-natal é clara: mães com maior escolaridade têm mais acesso e realizam mais consultas. Isso pode ser uma indicação de que a educação contribui para a conscientização sobre a importância do acompanhamento pré-natal e o acesso ao sistema de saúde.\r\n",
    "#### Mães com nenhuma escolaridade ou baixa escolaridade (até 7 anos) têm menos consultas, com um percentual maior de gestantes realizando apenas 1 a 3 consultas. Esse dado sugere que mães em situação de vulnerabilidade educacional podem ter dificuldades para acessar cuidados médicos adequados durante a gestação, o que pode ser agravado por fatores socioeconômicos."
   ]
  },
  {
   "cell_type": "markdown",
   "id": "5c4dd1e3",
   "metadata": {
    "papermill": {
     "duration": 0.014091,
     "end_time": "2024-11-21T21:11:14.721479",
     "exception": false,
     "start_time": "2024-11-21T21:11:14.707388",
     "status": "completed"
    },
    "tags": []
   },
   "source": [
    "### Final\n",
    "\n",
    "#### Este projeto oferece uma análise básica dos fatores que influenciam a gestação e os resultados associados a diferentes faixas etárias, escolaridade e estado civil. A análise sugere que o aumento da escolaridade, o acesso à saúde e o casamento ou união estável podem ser fatores protetores para as mães, contribuindo para melhores resultados durante a gestação. Além disso, os dados destacam a importância de abordar as desigualdades educacionais e de saúde para melhorar o acesso ao cuidado pré-natal e reduzir as disparidades nas condições de saúde materna e infantil."
   ]
  },
  {
   "cell_type": "code",
   "execution_count": null,
   "id": "9092b9b2",
   "metadata": {
    "papermill": {
     "duration": 0.014806,
     "end_time": "2024-11-21T21:11:14.751234",
     "exception": false,
     "start_time": "2024-11-21T21:11:14.736428",
     "status": "completed"
    },
    "tags": []
   },
   "outputs": [],
   "source": []
  }
 ],
 "metadata": {
  "kaggle": {
   "accelerator": "none",
   "dataSources": [
    {
     "datasetId": 6137746,
     "sourceId": 9975570,
     "sourceType": "datasetVersion"
    }
   ],
   "dockerImageVersionId": 30786,
   "isGpuEnabled": false,
   "isInternetEnabled": false,
   "language": "python",
   "sourceType": "notebook"
  },
  "kernelspec": {
   "display_name": "Python 3",
   "language": "python",
   "name": "python3"
  },
  "language_info": {
   "codemirror_mode": {
    "name": "ipython",
    "version": 3
   },
   "file_extension": ".py",
   "mimetype": "text/x-python",
   "name": "python",
   "nbconvert_exporter": "python",
   "pygments_lexer": "ipython3",
   "version": "3.10.14"
  },
  "papermill": {
   "default_parameters": {},
   "duration": 50.034744,
   "end_time": "2024-11-21T21:11:15.488215",
   "environment_variables": {},
   "exception": null,
   "input_path": "__notebook__.ipynb",
   "output_path": "__notebook__.ipynb",
   "parameters": {},
   "start_time": "2024-11-21T21:10:25.453471",
   "version": "2.6.0"
  }
 },
 "nbformat": 4,
 "nbformat_minor": 5
}
